{
 "cells": [
  {
   "cell_type": "code",
   "execution_count": 1,
   "metadata": {},
   "outputs": [],
   "source": [
    "import pandas as pd\n",
    "from sqlalchemy import create_engine\n",
    "from functools import reduce\n",
    "from credentials import user\n",
    "from credentials import server\n",
    "from credentials import password\n",
    "import seaborn as sns\n",
    "import matplotlib.pyplot as plt\n",
    "import numpy as np\n",
    "import matplotlib.ticker as ticker\n",
    "import matplotlib.dates as mdates\n",
    "\n",
    "from credentials import user, password, server"
   ]
  },
  {
   "cell_type": "code",
   "execution_count": 2,
   "metadata": {},
   "outputs": [],
   "source": [
    "engine = create_engine(\"postgres+psycopg2://\"+user+\":\"+password+\"@\"+server+\":5432/covid_data\")"
   ]
  },
  {
   "cell_type": "code",
   "execution_count": 3,
   "metadata": {},
   "outputs": [],
   "source": [
    "service_requests_df = pd.read_csv('C:/Users/Natalia/Documents/NSS/class_projects/nashville-covid-quaranteam/data/hubNashville_311_Service_Requests.csv', low_memory=False)\n",
    "clusters_df = pd.read_csv('C:/Users/Natalia/Documents/NSS/class_projects/nashville-covid-quaranteam/data/clusters.csv', low_memory=False)\n",
    "businesses_df = pd.read_csv('C:/Users/Natalia/Documents/NSS/class_projects/nashville-covid-quaranteam/data/businesses.csv', low_memory=False)"
   ]
  },
  {
   "cell_type": "code",
   "execution_count": 4,
   "metadata": {},
   "outputs": [
    {
     "data": {
      "text/html": [
       "<div>\n",
       "<style scoped>\n",
       "    .dataframe tbody tr th:only-of-type {\n",
       "        vertical-align: middle;\n",
       "    }\n",
       "\n",
       "    .dataframe tbody tr th {\n",
       "        vertical-align: top;\n",
       "    }\n",
       "\n",
       "    .dataframe thead th {\n",
       "        text-align: right;\n",
       "    }\n",
       "</style>\n",
       "<table border=\"1\" class=\"dataframe\">\n",
       "  <thead>\n",
       "    <tr style=\"text-align: right;\">\n",
       "      <th></th>\n",
       "      <th>Request #</th>\n",
       "      <th>Status</th>\n",
       "      <th>Request Type</th>\n",
       "      <th>Subrequest Type</th>\n",
       "      <th>Additional Subrequest Type</th>\n",
       "      <th>Date / Time Opened</th>\n",
       "      <th>Date / Time Closed</th>\n",
       "      <th>Request Origin</th>\n",
       "      <th>System of Origin ID</th>\n",
       "      <th>Contact Type</th>\n",
       "      <th>...</th>\n",
       "      <th>State Issue</th>\n",
       "      <th>Parent Request</th>\n",
       "      <th>Closed When Created</th>\n",
       "      <th>Address</th>\n",
       "      <th>City</th>\n",
       "      <th>Council District</th>\n",
       "      <th>ZIP</th>\n",
       "      <th>Latitude</th>\n",
       "      <th>Longitude</th>\n",
       "      <th>Mapped Location</th>\n",
       "    </tr>\n",
       "  </thead>\n",
       "  <tbody>\n",
       "    <tr>\n",
       "      <th>0</th>\n",
       "      <td>113016</td>\n",
       "      <td>Closed</td>\n",
       "      <td>Trash, Recycling &amp; Litter</td>\n",
       "      <td>Cart Service</td>\n",
       "      <td>Trash - Request an Additional Cart</td>\n",
       "      <td>10/30/2018 01:47:00 PM</td>\n",
       "      <td>03/05/2019 09:35:00 PM</td>\n",
       "      <td>Phone</td>\n",
       "      <td>NaN</td>\n",
       "      <td>NaN</td>\n",
       "      <td>...</td>\n",
       "      <td>False</td>\n",
       "      <td>NaN</td>\n",
       "      <td>False</td>\n",
       "      <td>2009 Upland Dr</td>\n",
       "      <td>NASHVILLE</td>\n",
       "      <td>7.0</td>\n",
       "      <td>37216</td>\n",
       "      <td>36.198638</td>\n",
       "      <td>-86.706659</td>\n",
       "      <td>(36.1986378, -86.7066586)</td>\n",
       "    </tr>\n",
       "    <tr>\n",
       "      <th>1</th>\n",
       "      <td>53502</td>\n",
       "      <td>Closed</td>\n",
       "      <td>Property Violations</td>\n",
       "      <td>Residential Complaint</td>\n",
       "      <td>Residential Complaint</td>\n",
       "      <td>03/13/2018 09:34:50 PM</td>\n",
       "      <td>04/06/2018 01:13:32 PM</td>\n",
       "      <td>Phone</td>\n",
       "      <td>NaN</td>\n",
       "      <td>NaN</td>\n",
       "      <td>...</td>\n",
       "      <td>False</td>\n",
       "      <td>NaN</td>\n",
       "      <td>False</td>\n",
       "      <td>631 Murfreesboro Pike</td>\n",
       "      <td>NASHVILLE</td>\n",
       "      <td>17.0</td>\n",
       "      <td>37210</td>\n",
       "      <td>36.140070</td>\n",
       "      <td>-86.738360</td>\n",
       "      <td>(36.14007, -86.73836)</td>\n",
       "    </tr>\n",
       "  </tbody>\n",
       "</table>\n",
       "<p>2 rows × 21 columns</p>\n",
       "</div>"
      ],
      "text/plain": [
       "   Request #  Status               Request Type        Subrequest Type  \\\n",
       "0     113016  Closed  Trash, Recycling & Litter           Cart Service   \n",
       "1      53502  Closed        Property Violations  Residential Complaint   \n",
       "\n",
       "           Additional Subrequest Type      Date / Time Opened  \\\n",
       "0  Trash - Request an Additional Cart  10/30/2018 01:47:00 PM   \n",
       "1               Residential Complaint  03/13/2018 09:34:50 PM   \n",
       "\n",
       "       Date / Time Closed Request Origin System of Origin ID Contact Type  \\\n",
       "0  03/05/2019 09:35:00 PM          Phone                 NaN          NaN   \n",
       "1  04/06/2018 01:13:32 PM          Phone                 NaN          NaN   \n",
       "\n",
       "   ...  State Issue  Parent Request  Closed When Created  \\\n",
       "0  ...        False             NaN                False   \n",
       "1  ...        False             NaN                False   \n",
       "\n",
       "                 Address       City Council District    ZIP   Latitude  \\\n",
       "0         2009 Upland Dr  NASHVILLE              7.0  37216  36.198638   \n",
       "1  631 Murfreesboro Pike  NASHVILLE             17.0  37210  36.140070   \n",
       "\n",
       "   Longitude            Mapped Location  \n",
       "0 -86.706659  (36.1986378, -86.7066586)  \n",
       "1 -86.738360      (36.14007, -86.73836)  \n",
       "\n",
       "[2 rows x 21 columns]"
      ]
     },
     "execution_count": 4,
     "metadata": {},
     "output_type": "execute_result"
    }
   ],
   "source": [
    "service_requests_df.head(2)"
   ]
  },
  {
   "cell_type": "code",
   "execution_count": 5,
   "metadata": {},
   "outputs": [
    {
     "data": {
      "text/html": [
       "<div>\n",
       "<style scoped>\n",
       "    .dataframe tbody tr th:only-of-type {\n",
       "        vertical-align: middle;\n",
       "    }\n",
       "\n",
       "    .dataframe tbody tr th {\n",
       "        vertical-align: top;\n",
       "    }\n",
       "\n",
       "    .dataframe thead th {\n",
       "        text-align: right;\n",
       "    }\n",
       "</style>\n",
       "<table border=\"1\" class=\"dataframe\">\n",
       "  <thead>\n",
       "    <tr style=\"text-align: right;\">\n",
       "      <th></th>\n",
       "      <th>Cluster Name</th>\n",
       "      <th>Facility Type</th>\n",
       "      <th>Cluster Start Date</th>\n",
       "      <th># Cases</th>\n",
       "      <th>Latitude</th>\n",
       "      <th>Longitude</th>\n",
       "    </tr>\n",
       "  </thead>\n",
       "  <tbody>\n",
       "    <tr>\n",
       "      <th>0</th>\n",
       "      <td>Vanderbilt Parties</td>\n",
       "      <td>Social Gathering</td>\n",
       "      <td>3/11/2020</td>\n",
       "      <td>49</td>\n",
       "      <td>36.144703</td>\n",
       "      <td>-86.802655</td>\n",
       "    </tr>\n",
       "    <tr>\n",
       "      <th>1</th>\n",
       "      <td>Event at Clementine Hall</td>\n",
       "      <td>Social Gathering</td>\n",
       "      <td>3/14/2020</td>\n",
       "      <td>23</td>\n",
       "      <td>36.152444</td>\n",
       "      <td>-86.844583</td>\n",
       "    </tr>\n",
       "  </tbody>\n",
       "</table>\n",
       "</div>"
      ],
      "text/plain": [
       "               Cluster Name     Facility Type Cluster Start Date  # Cases  \\\n",
       "0        Vanderbilt Parties  Social Gathering          3/11/2020       49   \n",
       "1  Event at Clementine Hall  Social Gathering          3/14/2020       23   \n",
       "\n",
       "    Latitude  Longitude  \n",
       "0  36.144703 -86.802655  \n",
       "1  36.152444 -86.844583  "
      ]
     },
     "execution_count": 5,
     "metadata": {},
     "output_type": "execute_result"
    }
   ],
   "source": [
    "clusters_df.head(2)"
   ]
  },
  {
   "cell_type": "code",
   "execution_count": 6,
   "metadata": {},
   "outputs": [
    {
     "data": {
      "text/html": [
       "<div>\n",
       "<style scoped>\n",
       "    .dataframe tbody tr th:only-of-type {\n",
       "        vertical-align: middle;\n",
       "    }\n",
       "\n",
       "    .dataframe tbody tr th {\n",
       "        vertical-align: top;\n",
       "    }\n",
       "\n",
       "    .dataframe thead th {\n",
       "        text-align: right;\n",
       "    }\n",
       "</style>\n",
       "<table border=\"1\" class=\"dataframe\">\n",
       "  <thead>\n",
       "    <tr style=\"text-align: right;\">\n",
       "      <th></th>\n",
       "      <th>address</th>\n",
       "      <th>vicinity</th>\n",
       "      <th>name</th>\n",
       "      <th>type</th>\n",
       "    </tr>\n",
       "  </thead>\n",
       "  <tbody>\n",
       "    <tr>\n",
       "      <th>0</th>\n",
       "      <td>2440 COUCHVILLE PIKE, Nashville</td>\n",
       "      <td>2440 Couchville Pike, Nashville</td>\n",
       "      <td>Wilson Sporting Goods Co</td>\n",
       "      <td>['point_of_interest', 'establishment']</td>\n",
       "    </tr>\n",
       "    <tr>\n",
       "      <th>1</th>\n",
       "      <td>1613 Buchanan St, Nashville</td>\n",
       "      <td>1613 Buchanan Street, Nashville</td>\n",
       "      <td>Coin Cloud Bitcoin ATM</td>\n",
       "      <td>['atm', 'finance', 'point_of_interest', 'estab...</td>\n",
       "    </tr>\n",
       "  </tbody>\n",
       "</table>\n",
       "</div>"
      ],
      "text/plain": [
       "                           address                         vicinity  \\\n",
       "0  2440 COUCHVILLE PIKE, Nashville  2440 Couchville Pike, Nashville   \n",
       "1      1613 Buchanan St, Nashville  1613 Buchanan Street, Nashville   \n",
       "\n",
       "                       name                                               type  \n",
       "0  Wilson Sporting Goods Co             ['point_of_interest', 'establishment']  \n",
       "1    Coin Cloud Bitcoin ATM  ['atm', 'finance', 'point_of_interest', 'estab...  "
      ]
     },
     "execution_count": 6,
     "metadata": {},
     "output_type": "execute_result"
    }
   ],
   "source": [
    "businesses_df.head(2)"
   ]
  },
  {
   "cell_type": "code",
   "execution_count": 7,
   "metadata": {},
   "outputs": [
    {
     "data": {
      "text/html": [
       "<div>\n",
       "<style scoped>\n",
       "    .dataframe tbody tr th:only-of-type {\n",
       "        vertical-align: middle;\n",
       "    }\n",
       "\n",
       "    .dataframe tbody tr th {\n",
       "        vertical-align: top;\n",
       "    }\n",
       "\n",
       "    .dataframe thead th {\n",
       "        text-align: right;\n",
       "    }\n",
       "</style>\n",
       "<table border=\"1\" class=\"dataframe\">\n",
       "  <thead>\n",
       "    <tr style=\"text-align: right;\">\n",
       "      <th></th>\n",
       "      <th>Request Type</th>\n",
       "      <th>Subrequest Type</th>\n",
       "      <th>Additional Subrequest Type</th>\n",
       "      <th>Date / Time Opened</th>\n",
       "      <th>Address</th>\n",
       "      <th>City</th>\n",
       "      <th>ZIP</th>\n",
       "      <th>Latitude</th>\n",
       "      <th>Longitude</th>\n",
       "      <th>Mapped Location</th>\n",
       "    </tr>\n",
       "  </thead>\n",
       "  <tbody>\n",
       "    <tr>\n",
       "      <th>0</th>\n",
       "      <td>Trash, Recycling &amp; Litter</td>\n",
       "      <td>Cart Service</td>\n",
       "      <td>Trash - Request an Additional Cart</td>\n",
       "      <td>10/30/2018 01:47:00 PM</td>\n",
       "      <td>2009 Upland Dr</td>\n",
       "      <td>NASHVILLE</td>\n",
       "      <td>37216</td>\n",
       "      <td>36.198638</td>\n",
       "      <td>-86.706659</td>\n",
       "      <td>(36.1986378, -86.7066586)</td>\n",
       "    </tr>\n",
       "    <tr>\n",
       "      <th>1</th>\n",
       "      <td>Property Violations</td>\n",
       "      <td>Residential Complaint</td>\n",
       "      <td>Residential Complaint</td>\n",
       "      <td>03/13/2018 09:34:50 PM</td>\n",
       "      <td>631 Murfreesboro Pike</td>\n",
       "      <td>NASHVILLE</td>\n",
       "      <td>37210</td>\n",
       "      <td>36.140070</td>\n",
       "      <td>-86.738360</td>\n",
       "      <td>(36.14007, -86.73836)</td>\n",
       "    </tr>\n",
       "  </tbody>\n",
       "</table>\n",
       "</div>"
      ],
      "text/plain": [
       "                Request Type        Subrequest Type  \\\n",
       "0  Trash, Recycling & Litter           Cart Service   \n",
       "1        Property Violations  Residential Complaint   \n",
       "\n",
       "           Additional Subrequest Type      Date / Time Opened  \\\n",
       "0  Trash - Request an Additional Cart  10/30/2018 01:47:00 PM   \n",
       "1               Residential Complaint  03/13/2018 09:34:50 PM   \n",
       "\n",
       "                 Address       City    ZIP   Latitude  Longitude  \\\n",
       "0         2009 Upland Dr  NASHVILLE  37216  36.198638 -86.706659   \n",
       "1  631 Murfreesboro Pike  NASHVILLE  37210  36.140070 -86.738360   \n",
       "\n",
       "             Mapped Location  \n",
       "0  (36.1986378, -86.7066586)  \n",
       "1      (36.14007, -86.73836)  "
      ]
     },
     "execution_count": 7,
     "metadata": {},
     "output_type": "execute_result"
    }
   ],
   "source": [
    "service_requests_filtered = service_requests_df[['Request Type','Subrequest Type','Additional Subrequest Type','Date / Time Opened','Address', 'City','ZIP','Latitude','Longitude','Mapped Location']]\n",
    "service_requests_filtered.head(2)"
   ]
  },
  {
   "cell_type": "code",
   "execution_count": 8,
   "metadata": {},
   "outputs": [
    {
     "data": {
      "text/html": [
       "<div>\n",
       "<style scoped>\n",
       "    .dataframe tbody tr th:only-of-type {\n",
       "        vertical-align: middle;\n",
       "    }\n",
       "\n",
       "    .dataframe tbody tr th {\n",
       "        vertical-align: top;\n",
       "    }\n",
       "\n",
       "    .dataframe thead th {\n",
       "        text-align: right;\n",
       "    }\n",
       "</style>\n",
       "<table border=\"1\" class=\"dataframe\">\n",
       "  <thead>\n",
       "    <tr style=\"text-align: right;\">\n",
       "      <th></th>\n",
       "      <th>Request Type</th>\n",
       "      <th>Subrequest Type</th>\n",
       "      <th>Additional Subrequest Type</th>\n",
       "      <th>Date / Time Opened</th>\n",
       "      <th>Address</th>\n",
       "      <th>City</th>\n",
       "      <th>ZIP</th>\n",
       "      <th>Latitude</th>\n",
       "      <th>Longitude</th>\n",
       "      <th>Mapped Location</th>\n",
       "    </tr>\n",
       "  </thead>\n",
       "  <tbody>\n",
       "    <tr>\n",
       "      <th>0</th>\n",
       "      <td>Trash, Recycling &amp; Litter</td>\n",
       "      <td>Cart Service</td>\n",
       "      <td>Trash - Request an Additional Cart</td>\n",
       "      <td>10/30/2018 01:47:00 PM</td>\n",
       "      <td>2009 Upland Dr</td>\n",
       "      <td>NASHVILLE</td>\n",
       "      <td>37216</td>\n",
       "      <td>36.198638</td>\n",
       "      <td>-86.706659</td>\n",
       "      <td>(36.1986378, -86.7066586)</td>\n",
       "    </tr>\n",
       "    <tr>\n",
       "      <th>1</th>\n",
       "      <td>Property Violations</td>\n",
       "      <td>Residential Complaint</td>\n",
       "      <td>Residential Complaint</td>\n",
       "      <td>03/13/2018 09:34:50 PM</td>\n",
       "      <td>631 Murfreesboro Pike</td>\n",
       "      <td>NASHVILLE</td>\n",
       "      <td>37210</td>\n",
       "      <td>36.140070</td>\n",
       "      <td>-86.738360</td>\n",
       "      <td>(36.14007, -86.73836)</td>\n",
       "    </tr>\n",
       "  </tbody>\n",
       "</table>\n",
       "</div>"
      ],
      "text/plain": [
       "                Request Type        Subrequest Type  \\\n",
       "0  Trash, Recycling & Litter           Cart Service   \n",
       "1        Property Violations  Residential Complaint   \n",
       "\n",
       "           Additional Subrequest Type      Date / Time Opened  \\\n",
       "0  Trash - Request an Additional Cart  10/30/2018 01:47:00 PM   \n",
       "1               Residential Complaint  03/13/2018 09:34:50 PM   \n",
       "\n",
       "                 Address       City    ZIP   Latitude  Longitude  \\\n",
       "0         2009 Upland Dr  NASHVILLE  37216  36.198638 -86.706659   \n",
       "1  631 Murfreesboro Pike  NASHVILLE  37210  36.140070 -86.738360   \n",
       "\n",
       "             Mapped Location  \n",
       "0  (36.1986378, -86.7066586)  \n",
       "1      (36.14007, -86.73836)  "
      ]
     },
     "execution_count": 8,
     "metadata": {},
     "output_type": "execute_result"
    }
   ],
   "source": [
    "service_requests_dropped_nan = service_requests_filtered.dropna()\n",
    "service_requests_dropped_nan.head(2)"
   ]
  },
  {
   "cell_type": "code",
   "execution_count": 9,
   "metadata": {},
   "outputs": [
    {
     "data": {
      "text/html": [
       "<div>\n",
       "<style scoped>\n",
       "    .dataframe tbody tr th:only-of-type {\n",
       "        vertical-align: middle;\n",
       "    }\n",
       "\n",
       "    .dataframe tbody tr th {\n",
       "        vertical-align: top;\n",
       "    }\n",
       "\n",
       "    .dataframe thead th {\n",
       "        text-align: right;\n",
       "    }\n",
       "</style>\n",
       "<table border=\"1\" class=\"dataframe\">\n",
       "  <thead>\n",
       "    <tr style=\"text-align: right;\">\n",
       "      <th></th>\n",
       "      <th>req_type</th>\n",
       "      <th>subreq_type</th>\n",
       "      <th>add_subreq_type</th>\n",
       "      <th>date_time</th>\n",
       "      <th>address</th>\n",
       "      <th>city</th>\n",
       "      <th>zip</th>\n",
       "      <th>lat</th>\n",
       "      <th>long</th>\n",
       "      <th>mapped_loc</th>\n",
       "    </tr>\n",
       "  </thead>\n",
       "  <tbody>\n",
       "    <tr>\n",
       "      <th>0</th>\n",
       "      <td>Trash, Recycling &amp; Litter</td>\n",
       "      <td>Cart Service</td>\n",
       "      <td>Trash - Request an Additional Cart</td>\n",
       "      <td>10/30/2018 01:47:00 PM</td>\n",
       "      <td>2009 Upland Dr</td>\n",
       "      <td>NASHVILLE</td>\n",
       "      <td>37216</td>\n",
       "      <td>36.198638</td>\n",
       "      <td>-86.706659</td>\n",
       "      <td>(36.1986378, -86.7066586)</td>\n",
       "    </tr>\n",
       "    <tr>\n",
       "      <th>1</th>\n",
       "      <td>Property Violations</td>\n",
       "      <td>Residential Complaint</td>\n",
       "      <td>Residential Complaint</td>\n",
       "      <td>03/13/2018 09:34:50 PM</td>\n",
       "      <td>631 Murfreesboro Pike</td>\n",
       "      <td>NASHVILLE</td>\n",
       "      <td>37210</td>\n",
       "      <td>36.140070</td>\n",
       "      <td>-86.738360</td>\n",
       "      <td>(36.14007, -86.73836)</td>\n",
       "    </tr>\n",
       "  </tbody>\n",
       "</table>\n",
       "</div>"
      ],
      "text/plain": [
       "                    req_type            subreq_type  \\\n",
       "0  Trash, Recycling & Litter           Cart Service   \n",
       "1        Property Violations  Residential Complaint   \n",
       "\n",
       "                      add_subreq_type               date_time  \\\n",
       "0  Trash - Request an Additional Cart  10/30/2018 01:47:00 PM   \n",
       "1               Residential Complaint  03/13/2018 09:34:50 PM   \n",
       "\n",
       "                 address       city    zip        lat       long  \\\n",
       "0         2009 Upland Dr  NASHVILLE  37216  36.198638 -86.706659   \n",
       "1  631 Murfreesboro Pike  NASHVILLE  37210  36.140070 -86.738360   \n",
       "\n",
       "                  mapped_loc  \n",
       "0  (36.1986378, -86.7066586)  \n",
       "1      (36.14007, -86.73836)  "
      ]
     },
     "execution_count": 9,
     "metadata": {},
     "output_type": "execute_result"
    }
   ],
   "source": [
    "service_requests_renamed = service_requests_dropped_nan.rename(columns={'Request Type':'req_type', 'Subrequest Type':'subreq_type','Additional Subrequest Type':'add_subreq_type','Date / Time Opened':'date_time','Address':'address','City':'city','ZIP':'zip','Latitude':'lat','Longitude':'long','Mapped Location':'mapped_loc'})\n",
    "service_requests_renamed.head(2)"
   ]
  },
  {
   "cell_type": "code",
   "execution_count": 10,
   "metadata": {},
   "outputs": [
    {
     "data": {
      "text/html": [
       "<div>\n",
       "<style scoped>\n",
       "    .dataframe tbody tr th:only-of-type {\n",
       "        vertical-align: middle;\n",
       "    }\n",
       "\n",
       "    .dataframe tbody tr th {\n",
       "        vertical-align: top;\n",
       "    }\n",
       "\n",
       "    .dataframe thead th {\n",
       "        text-align: right;\n",
       "    }\n",
       "</style>\n",
       "<table border=\"1\" class=\"dataframe\">\n",
       "  <thead>\n",
       "    <tr style=\"text-align: right;\">\n",
       "      <th></th>\n",
       "      <th>req_type</th>\n",
       "      <th>subreq_type</th>\n",
       "      <th>add_subreq_type</th>\n",
       "      <th>date_time</th>\n",
       "      <th>address</th>\n",
       "      <th>city</th>\n",
       "      <th>zip</th>\n",
       "      <th>lat</th>\n",
       "      <th>long</th>\n",
       "      <th>mapped_loc</th>\n",
       "      <th>date</th>\n",
       "      <th>time</th>\n",
       "      <th>AM/PM</th>\n",
       "    </tr>\n",
       "  </thead>\n",
       "  <tbody>\n",
       "    <tr>\n",
       "      <th>0</th>\n",
       "      <td>Trash, Recycling &amp; Litter</td>\n",
       "      <td>Cart Service</td>\n",
       "      <td>Trash - Request an Additional Cart</td>\n",
       "      <td>10/30/2018 01:47:00 PM</td>\n",
       "      <td>2009 Upland Dr</td>\n",
       "      <td>NASHVILLE</td>\n",
       "      <td>37216</td>\n",
       "      <td>36.198638</td>\n",
       "      <td>-86.706659</td>\n",
       "      <td>(36.1986378, -86.7066586)</td>\n",
       "      <td>10/30/2018</td>\n",
       "      <td>01:47:00</td>\n",
       "      <td>PM</td>\n",
       "    </tr>\n",
       "    <tr>\n",
       "      <th>1</th>\n",
       "      <td>Property Violations</td>\n",
       "      <td>Residential Complaint</td>\n",
       "      <td>Residential Complaint</td>\n",
       "      <td>03/13/2018 09:34:50 PM</td>\n",
       "      <td>631 Murfreesboro Pike</td>\n",
       "      <td>NASHVILLE</td>\n",
       "      <td>37210</td>\n",
       "      <td>36.140070</td>\n",
       "      <td>-86.738360</td>\n",
       "      <td>(36.14007, -86.73836)</td>\n",
       "      <td>03/13/2018</td>\n",
       "      <td>09:34:50</td>\n",
       "      <td>PM</td>\n",
       "    </tr>\n",
       "  </tbody>\n",
       "</table>\n",
       "</div>"
      ],
      "text/plain": [
       "                    req_type            subreq_type  \\\n",
       "0  Trash, Recycling & Litter           Cart Service   \n",
       "1        Property Violations  Residential Complaint   \n",
       "\n",
       "                      add_subreq_type               date_time  \\\n",
       "0  Trash - Request an Additional Cart  10/30/2018 01:47:00 PM   \n",
       "1               Residential Complaint  03/13/2018 09:34:50 PM   \n",
       "\n",
       "                 address       city    zip        lat       long  \\\n",
       "0         2009 Upland Dr  NASHVILLE  37216  36.198638 -86.706659   \n",
       "1  631 Murfreesboro Pike  NASHVILLE  37210  36.140070 -86.738360   \n",
       "\n",
       "                  mapped_loc        date      time AM/PM  \n",
       "0  (36.1986378, -86.7066586)  10/30/2018  01:47:00    PM  \n",
       "1      (36.14007, -86.73836)  03/13/2018  09:34:50    PM  "
      ]
     },
     "execution_count": 10,
     "metadata": {},
     "output_type": "execute_result"
    }
   ],
   "source": [
    "#covid_violations_renamed[['date','time']] = covid_violations_renamed.date_time.str.split(' ',expand=True)\n",
    "service_requests_renamed['date'] = service_requests_renamed.date_time.str.split(' ', expand = True)[0]\n",
    "service_requests_renamed['time'] = service_requests_renamed.date_time.str.split(' ', expand = True)[1]\n",
    "service_requests_renamed ['AM/PM'] = service_requests_renamed.date_time.str.split(' ', expand = True)[2]\n",
    "service_requests_renamed.head(2)"
   ]
  },
  {
   "cell_type": "code",
   "execution_count": 11,
   "metadata": {},
   "outputs": [],
   "source": [
    "##covid_violations_renamed['date'] = covid_violations_renamed.date_time.str.split().str[0]\n",
    "##covid_violations_renamed.head(2)"
   ]
  },
  {
   "cell_type": "code",
   "execution_count": 12,
   "metadata": {},
   "outputs": [
    {
     "data": {
      "text/html": [
       "<div>\n",
       "<style scoped>\n",
       "    .dataframe tbody tr th:only-of-type {\n",
       "        vertical-align: middle;\n",
       "    }\n",
       "\n",
       "    .dataframe tbody tr th {\n",
       "        vertical-align: top;\n",
       "    }\n",
       "\n",
       "    .dataframe thead th {\n",
       "        text-align: right;\n",
       "    }\n",
       "</style>\n",
       "<table border=\"1\" class=\"dataframe\">\n",
       "  <thead>\n",
       "    <tr style=\"text-align: right;\">\n",
       "      <th></th>\n",
       "      <th>req_type</th>\n",
       "      <th>subreq_type</th>\n",
       "      <th>add_subreq_type</th>\n",
       "      <th>date_time</th>\n",
       "      <th>address</th>\n",
       "      <th>city</th>\n",
       "      <th>zip</th>\n",
       "      <th>lat</th>\n",
       "      <th>long</th>\n",
       "      <th>mapped_loc</th>\n",
       "      <th>date</th>\n",
       "      <th>time</th>\n",
       "      <th>AM/PM</th>\n",
       "    </tr>\n",
       "  </thead>\n",
       "  <tbody>\n",
       "    <tr>\n",
       "      <th>0</th>\n",
       "      <td>COVID-19</td>\n",
       "      <td>COVID-19 Violations</td>\n",
       "      <td>COVID-19 Violations</td>\n",
       "      <td>08/14/2020 02:38:00 AM</td>\n",
       "      <td>2045 Antioch Pike</td>\n",
       "      <td>ANTIOCH</td>\n",
       "      <td>37013</td>\n",
       "      <td>36.068546</td>\n",
       "      <td>-86.683898</td>\n",
       "      <td>(36.0685457, -86.6838975)</td>\n",
       "      <td>08/14/2020</td>\n",
       "      <td>02:38:00</td>\n",
       "      <td>AM</td>\n",
       "    </tr>\n",
       "    <tr>\n",
       "      <th>1</th>\n",
       "      <td>COVID-19</td>\n",
       "      <td>COVID-19 Questions</td>\n",
       "      <td>COVID-19 Questions</td>\n",
       "      <td>06/18/2020 08:59:50 PM</td>\n",
       "      <td>Charlotte Pike</td>\n",
       "      <td>NASHVILLE</td>\n",
       "      <td>37209</td>\n",
       "      <td>36.114870</td>\n",
       "      <td>-86.925890</td>\n",
       "      <td>(36.11487, -86.92589)</td>\n",
       "      <td>06/18/2020</td>\n",
       "      <td>08:59:50</td>\n",
       "      <td>PM</td>\n",
       "    </tr>\n",
       "  </tbody>\n",
       "</table>\n",
       "</div>"
      ],
      "text/plain": [
       "   req_type          subreq_type      add_subreq_type               date_time  \\\n",
       "0  COVID-19  COVID-19 Violations  COVID-19 Violations  08/14/2020 02:38:00 AM   \n",
       "1  COVID-19   COVID-19 Questions   COVID-19 Questions  06/18/2020 08:59:50 PM   \n",
       "\n",
       "             address       city    zip        lat       long  \\\n",
       "0  2045 Antioch Pike    ANTIOCH  37013  36.068546 -86.683898   \n",
       "1     Charlotte Pike  NASHVILLE  37209  36.114870 -86.925890   \n",
       "\n",
       "                  mapped_loc        date      time AM/PM  \n",
       "0  (36.0685457, -86.6838975)  08/14/2020  02:38:00    AM  \n",
       "1      (36.11487, -86.92589)  06/18/2020  08:59:50    PM  "
      ]
     },
     "execution_count": 12,
     "metadata": {},
     "output_type": "execute_result"
    }
   ],
   "source": [
    "covid_violations = service_requests_renamed[service_requests_renamed[\"req_type\"]== 'COVID-19']\n",
    "covid_violations = covid_violations.reset_index(drop=True)\n",
    "covid_violations.head(2)"
   ]
  },
  {
   "cell_type": "markdown",
   "metadata": {},
   "source": [
    "### Violations reported by subtype"
   ]
  },
  {
   "cell_type": "code",
   "execution_count": 13,
   "metadata": {},
   "outputs": [
    {
     "data": {
      "text/plain": [
       "COVID-19 Violations                                           10791\n",
       "COVID-19 Questions                                              366\n",
       "COVID-19 Guidance for Reopening Businesses                       25\n",
       "COVID-19 - Submit Input about The Plan to Reopen Nashville       16\n",
       "Name: subreq_type, dtype: int64"
      ]
     },
     "execution_count": 13,
     "metadata": {},
     "output_type": "execute_result"
    }
   ],
   "source": [
    "covid_violations_sorted = covid_violations[\"subreq_type\"].value_counts(sort=True)\n",
    "covid_violations_sorted "
   ]
  },
  {
   "cell_type": "markdown",
   "metadata": {},
   "source": [
    "### Violations reported by location"
   ]
  },
  {
   "cell_type": "code",
   "execution_count": 14,
   "metadata": {},
   "outputs": [
    {
     "data": {
      "text/plain": [
       "NASHVILLE         9077\n",
       "MADISON            612\n",
       "ANTIOCH            492\n",
       "HERMITAGE          444\n",
       "GOODLETTSVILLE     217\n",
       "OLD HICKORY        217\n",
       "BRENTWOOD           51\n",
       "JOELTON             45\n",
       "WHITES CREEK        28\n",
       "LAVERGNE             9\n",
       "NOLENSVILLE          5\n",
       "LA VERGNE            1\n",
       "Name: city, dtype: int64"
      ]
     },
     "execution_count": 14,
     "metadata": {},
     "output_type": "execute_result"
    }
   ],
   "source": [
    "covid_violations_sorted_loc = covid_violations[\"city\"].value_counts(sort=True)\n",
    "covid_violations_sorted_loc"
   ]
  },
  {
   "cell_type": "code",
   "execution_count": 15,
   "metadata": {},
   "outputs": [
    {
     "data": {
      "text/plain": [
       "COVID-19 Violations                                           10791\n",
       "COVID-19 Questions                                              366\n",
       "COVID-19 Guidance for Reopening Businesses                       25\n",
       "COVID-19 - Submit Input about The Plan to Reopen Nashville       16\n",
       "Name: add_subreq_type, dtype: int64"
      ]
     },
     "execution_count": 15,
     "metadata": {},
     "output_type": "execute_result"
    }
   ],
   "source": [
    "covid_violations_addl_sorted = covid_violations[\"add_subreq_type\"].value_counts(sort=True)\n",
    "covid_violations_addl_sorted "
   ]
  },
  {
   "cell_type": "code",
   "execution_count": 16,
   "metadata": {},
   "outputs": [
    {
     "name": "stdout",
     "output_type": "stream",
     "text": [
      "03/20/2020\n"
     ]
    }
   ],
   "source": [
    "print(covid_violations[\"date\"].min())"
   ]
  },
  {
   "cell_type": "code",
   "execution_count": 17,
   "metadata": {},
   "outputs": [
    {
     "name": "stdout",
     "output_type": "stream",
     "text": [
      "11/14/2020\n"
     ]
    }
   ],
   "source": [
    "print(covid_violations[\"date\"].max())"
   ]
  },
  {
   "cell_type": "code",
   "execution_count": 18,
   "metadata": {},
   "outputs": [
    {
     "data": {
      "text/plain": [
       "04/06/2020    214\n",
       "04/03/2020    204\n",
       "08/02/2020    182\n",
       "04/02/2020    167\n",
       "08/03/2020    154\n",
       "             ... \n",
       "03/29/2020      2\n",
       "04/26/2020      1\n",
       "03/21/2020      1\n",
       "03/28/2020      1\n",
       "03/20/2020      1\n",
       "Name: date, Length: 240, dtype: int64"
      ]
     },
     "execution_count": 18,
     "metadata": {},
     "output_type": "execute_result"
    }
   ],
   "source": [
    "covid_violations_no_per_day = covid_violations[\"date\"].value_counts(sort=True)\n",
    "covid_violations_no_per_day \n"
   ]
  },
  {
   "cell_type": "code",
   "execution_count": 19,
   "metadata": {},
   "outputs": [
    {
     "data": {
      "text/plain": [
       "req_type            object\n",
       "subreq_type         object\n",
       "add_subreq_type     object\n",
       "date_time           object\n",
       "address             object\n",
       "city                object\n",
       "zip                 object\n",
       "lat                float64\n",
       "long               float64\n",
       "mapped_loc          object\n",
       "date                object\n",
       "time                object\n",
       "AM/PM               object\n",
       "dtype: object"
      ]
     },
     "execution_count": 19,
     "metadata": {},
     "output_type": "execute_result"
    }
   ],
   "source": [
    "covid_violations.dtypes"
   ]
  },
  {
   "cell_type": "code",
   "execution_count": 20,
   "metadata": {},
   "outputs": [
    {
     "data": {
      "text/html": [
       "<div>\n",
       "<style scoped>\n",
       "    .dataframe tbody tr th:only-of-type {\n",
       "        vertical-align: middle;\n",
       "    }\n",
       "\n",
       "    .dataframe tbody tr th {\n",
       "        vertical-align: top;\n",
       "    }\n",
       "\n",
       "    .dataframe thead th {\n",
       "        text-align: right;\n",
       "    }\n",
       "</style>\n",
       "<table border=\"1\" class=\"dataframe\">\n",
       "  <thead>\n",
       "    <tr style=\"text-align: right;\">\n",
       "      <th></th>\n",
       "      <th>req_type</th>\n",
       "      <th>subreq_type</th>\n",
       "      <th>add_subreq_type</th>\n",
       "      <th>date_time</th>\n",
       "      <th>address</th>\n",
       "      <th>city</th>\n",
       "      <th>zip</th>\n",
       "      <th>lat</th>\n",
       "      <th>long</th>\n",
       "      <th>mapped_loc</th>\n",
       "      <th>date</th>\n",
       "      <th>time</th>\n",
       "      <th>AM/PM</th>\n",
       "    </tr>\n",
       "  </thead>\n",
       "  <tbody>\n",
       "    <tr>\n",
       "      <th>0</th>\n",
       "      <td>COVID-19</td>\n",
       "      <td>COVID-19 Violations</td>\n",
       "      <td>COVID-19 Violations</td>\n",
       "      <td>08/14/2020 02:38:00 AM</td>\n",
       "      <td>2045 Antioch Pike</td>\n",
       "      <td>ANTIOCH</td>\n",
       "      <td>37013</td>\n",
       "      <td>36.068546</td>\n",
       "      <td>-86.683898</td>\n",
       "      <td>(36.0685457, -86.6838975)</td>\n",
       "      <td>2020-08-14</td>\n",
       "      <td>02:38:00</td>\n",
       "      <td>AM</td>\n",
       "    </tr>\n",
       "    <tr>\n",
       "      <th>1</th>\n",
       "      <td>COVID-19</td>\n",
       "      <td>COVID-19 Questions</td>\n",
       "      <td>COVID-19 Questions</td>\n",
       "      <td>06/18/2020 08:59:50 PM</td>\n",
       "      <td>Charlotte Pike</td>\n",
       "      <td>NASHVILLE</td>\n",
       "      <td>37209</td>\n",
       "      <td>36.114870</td>\n",
       "      <td>-86.925890</td>\n",
       "      <td>(36.11487, -86.92589)</td>\n",
       "      <td>2020-06-18</td>\n",
       "      <td>08:59:50</td>\n",
       "      <td>PM</td>\n",
       "    </tr>\n",
       "  </tbody>\n",
       "</table>\n",
       "</div>"
      ],
      "text/plain": [
       "   req_type          subreq_type      add_subreq_type               date_time  \\\n",
       "0  COVID-19  COVID-19 Violations  COVID-19 Violations  08/14/2020 02:38:00 AM   \n",
       "1  COVID-19   COVID-19 Questions   COVID-19 Questions  06/18/2020 08:59:50 PM   \n",
       "\n",
       "             address       city    zip        lat       long  \\\n",
       "0  2045 Antioch Pike    ANTIOCH  37013  36.068546 -86.683898   \n",
       "1     Charlotte Pike  NASHVILLE  37209  36.114870 -86.925890   \n",
       "\n",
       "                  mapped_loc       date      time AM/PM  \n",
       "0  (36.0685457, -86.6838975) 2020-08-14  02:38:00    AM  \n",
       "1      (36.11487, -86.92589) 2020-06-18  08:59:50    PM  "
      ]
     },
     "execution_count": 20,
     "metadata": {},
     "output_type": "execute_result"
    }
   ],
   "source": [
    "covid_violations['date'] = pd.to_datetime(covid_violations['date'])\n",
    "covid_violations.head(2)"
   ]
  },
  {
   "cell_type": "code",
   "execution_count": 21,
   "metadata": {},
   "outputs": [],
   "source": [
    "##covid_violations.dtypes"
   ]
  },
  {
   "cell_type": "code",
   "execution_count": 22,
   "metadata": {},
   "outputs": [
    {
     "data": {
      "text/plain": [
       "<matplotlib.axes._subplots.AxesSubplot at 0x1d245317b48>"
      ]
     },
     "execution_count": 22,
     "metadata": {},
     "output_type": "execute_result"
    },
    {
     "data": {
      "image/png": "[encoded data removed]",
      "text/plain": [
       "<Figure size 432x288 with 1 Axes>"
      ]
     },
     "metadata": {
      "needs_background": "light"
     },
     "output_type": "display_data"
    }
   ],
   "source": [
    "covid_violations_over_time = covid_violations['date'].groupby(covid_violations.date.dt.to_period(\"D\")).agg('count')\n",
    "#df\n",
    "covid_violations_over_time.plot()\n"
   ]
  },
  {
   "cell_type": "markdown",
   "metadata": {},
   "source": [
    "### Loaded Colleges df"
   ]
  },
  {
   "cell_type": "code",
   "execution_count": 23,
   "metadata": {},
   "outputs": [
    {
     "data": {
      "text/html": [
       "<div>\n",
       "<style scoped>\n",
       "    .dataframe tbody tr th:only-of-type {\n",
       "        vertical-align: middle;\n",
       "    }\n",
       "\n",
       "    .dataframe tbody tr th {\n",
       "        vertical-align: top;\n",
       "    }\n",
       "\n",
       "    .dataframe thead th {\n",
       "        text-align: right;\n",
       "    }\n",
       "</style>\n",
       "<table border=\"1\" class=\"dataframe\">\n",
       "  <thead>\n",
       "    <tr style=\"text-align: right;\">\n",
       "      <th></th>\n",
       "      <th>date</th>\n",
       "      <th>state</th>\n",
       "      <th>county</th>\n",
       "      <th>city</th>\n",
       "      <th>ipeds_id</th>\n",
       "      <th>college</th>\n",
       "      <th>cases</th>\n",
       "      <th>notes</th>\n",
       "    </tr>\n",
       "  </thead>\n",
       "  <tbody>\n",
       "    <tr>\n",
       "      <th>0</th>\n",
       "      <td>2020-11-05</td>\n",
       "      <td>Alabama</td>\n",
       "      <td>Madison</td>\n",
       "      <td>Huntsville</td>\n",
       "      <td>100654</td>\n",
       "      <td>Alabama A&amp;M University</td>\n",
       "      <td>41.0</td>\n",
       "      <td>None</td>\n",
       "    </tr>\n",
       "    <tr>\n",
       "      <th>1</th>\n",
       "      <td>2020-11-05</td>\n",
       "      <td>Alabama</td>\n",
       "      <td>Montgomery</td>\n",
       "      <td>Montgomery</td>\n",
       "      <td>100724</td>\n",
       "      <td>Alabama State University</td>\n",
       "      <td>NaN</td>\n",
       "      <td>None</td>\n",
       "    </tr>\n",
       "  </tbody>\n",
       "</table>\n",
       "</div>"
      ],
      "text/plain": [
       "         date    state      county        city ipeds_id  \\\n",
       "0  2020-11-05  Alabama     Madison  Huntsville   100654   \n",
       "1  2020-11-05  Alabama  Montgomery  Montgomery   100724   \n",
       "\n",
       "                    college  cases notes  \n",
       "0    Alabama A&M University   41.0  None  \n",
       "1  Alabama State University    NaN  None  "
      ]
     },
     "execution_count": 23,
     "metadata": {},
     "output_type": "execute_result"
    }
   ],
   "source": [
    "colleges_df = pd.read_sql(\"select * from colleges;\", con=engine)\n",
    "colleges_df.head(2)"
   ]
  },
  {
   "cell_type": "markdown",
   "metadata": {},
   "source": [
    "### Dropped column \"notes\""
   ]
  },
  {
   "cell_type": "code",
   "execution_count": 24,
   "metadata": {},
   "outputs": [
    {
     "data": {
      "text/html": [
       "<div>\n",
       "<style scoped>\n",
       "    .dataframe tbody tr th:only-of-type {\n",
       "        vertical-align: middle;\n",
       "    }\n",
       "\n",
       "    .dataframe tbody tr th {\n",
       "        vertical-align: top;\n",
       "    }\n",
       "\n",
       "    .dataframe thead th {\n",
       "        text-align: right;\n",
       "    }\n",
       "</style>\n",
       "<table border=\"1\" class=\"dataframe\">\n",
       "  <thead>\n",
       "    <tr style=\"text-align: right;\">\n",
       "      <th></th>\n",
       "      <th>date</th>\n",
       "      <th>state</th>\n",
       "      <th>county</th>\n",
       "      <th>city</th>\n",
       "      <th>ipeds_id</th>\n",
       "      <th>college</th>\n",
       "      <th>cases</th>\n",
       "    </tr>\n",
       "  </thead>\n",
       "  <tbody>\n",
       "    <tr>\n",
       "      <th>0</th>\n",
       "      <td>2020-11-05</td>\n",
       "      <td>Alabama</td>\n",
       "      <td>Madison</td>\n",
       "      <td>Huntsville</td>\n",
       "      <td>100654</td>\n",
       "      <td>Alabama A&amp;M University</td>\n",
       "      <td>41.0</td>\n",
       "    </tr>\n",
       "    <tr>\n",
       "      <th>1</th>\n",
       "      <td>2020-11-05</td>\n",
       "      <td>Alabama</td>\n",
       "      <td>Montgomery</td>\n",
       "      <td>Montgomery</td>\n",
       "      <td>100724</td>\n",
       "      <td>Alabama State University</td>\n",
       "      <td>NaN</td>\n",
       "    </tr>\n",
       "  </tbody>\n",
       "</table>\n",
       "</div>"
      ],
      "text/plain": [
       "         date    state      county        city ipeds_id  \\\n",
       "0  2020-11-05  Alabama     Madison  Huntsville   100654   \n",
       "1  2020-11-05  Alabama  Montgomery  Montgomery   100724   \n",
       "\n",
       "                    college  cases  \n",
       "0    Alabama A&M University   41.0  \n",
       "1  Alabama State University    NaN  "
      ]
     },
     "execution_count": 24,
     "metadata": {},
     "output_type": "execute_result"
    }
   ],
   "source": [
    "colleges_df=colleges_df[['date','state','county','city','ipeds_id', 'college','cases']]\n",
    "colleges_df.head(2)"
   ]
  },
  {
   "cell_type": "markdown",
   "metadata": {},
   "source": [
    "### Dropped missing values"
   ]
  },
  {
   "cell_type": "code",
   "execution_count": 25,
   "metadata": {},
   "outputs": [
    {
     "data": {
      "text/html": [
       "<div>\n",
       "<style scoped>\n",
       "    .dataframe tbody tr th:only-of-type {\n",
       "        vertical-align: middle;\n",
       "    }\n",
       "\n",
       "    .dataframe tbody tr th {\n",
       "        vertical-align: top;\n",
       "    }\n",
       "\n",
       "    .dataframe thead th {\n",
       "        text-align: right;\n",
       "    }\n",
       "</style>\n",
       "<table border=\"1\" class=\"dataframe\">\n",
       "  <thead>\n",
       "    <tr style=\"text-align: right;\">\n",
       "      <th></th>\n",
       "      <th>date</th>\n",
       "      <th>state</th>\n",
       "      <th>county</th>\n",
       "      <th>city</th>\n",
       "      <th>ipeds_id</th>\n",
       "      <th>college</th>\n",
       "      <th>cases</th>\n",
       "    </tr>\n",
       "  </thead>\n",
       "  <tbody>\n",
       "    <tr>\n",
       "      <th>0</th>\n",
       "      <td>2020-11-05</td>\n",
       "      <td>Alabama</td>\n",
       "      <td>Madison</td>\n",
       "      <td>Huntsville</td>\n",
       "      <td>100654</td>\n",
       "      <td>Alabama A&amp;M University</td>\n",
       "      <td>41.0</td>\n",
       "    </tr>\n",
       "    <tr>\n",
       "      <th>1</th>\n",
       "      <td>2020-11-05</td>\n",
       "      <td>Alabama</td>\n",
       "      <td>Limestone</td>\n",
       "      <td>Athens</td>\n",
       "      <td>100812</td>\n",
       "      <td>Athens State University</td>\n",
       "      <td>23.0</td>\n",
       "    </tr>\n",
       "  </tbody>\n",
       "</table>\n",
       "</div>"
      ],
      "text/plain": [
       "         date    state     county        city ipeds_id  \\\n",
       "0  2020-11-05  Alabama    Madison  Huntsville   100654   \n",
       "1  2020-11-05  Alabama  Limestone      Athens   100812   \n",
       "\n",
       "                   college  cases  \n",
       "0   Alabama A&M University   41.0  \n",
       "1  Athens State University   23.0  "
      ]
     },
     "execution_count": 25,
     "metadata": {},
     "output_type": "execute_result"
    }
   ],
   "source": [
    "colleges_df_dropped_nan = colleges_df.dropna()\n",
    "colleges_df_dropped_nan = colleges_df_dropped_nan.reset_index(drop=True)\n",
    "colleges_df_dropped_nan.head(2)"
   ]
  },
  {
   "cell_type": "markdown",
   "metadata": {},
   "source": [
    "### Made sure there were no duplicates"
   ]
  },
  {
   "cell_type": "code",
   "execution_count": 26,
   "metadata": {},
   "outputs": [
    {
     "data": {
      "text/html": [
       "<div>\n",
       "<style scoped>\n",
       "    .dataframe tbody tr th:only-of-type {\n",
       "        vertical-align: middle;\n",
       "    }\n",
       "\n",
       "    .dataframe tbody tr th {\n",
       "        vertical-align: top;\n",
       "    }\n",
       "\n",
       "    .dataframe thead th {\n",
       "        text-align: right;\n",
       "    }\n",
       "</style>\n",
       "<table border=\"1\" class=\"dataframe\">\n",
       "  <thead>\n",
       "    <tr style=\"text-align: right;\">\n",
       "      <th></th>\n",
       "      <th>date</th>\n",
       "      <th>state</th>\n",
       "      <th>county</th>\n",
       "      <th>city</th>\n",
       "      <th>ipeds_id</th>\n",
       "      <th>college</th>\n",
       "      <th>cases</th>\n",
       "    </tr>\n",
       "  </thead>\n",
       "  <tbody>\n",
       "    <tr>\n",
       "      <th>0</th>\n",
       "      <td>2020-11-05</td>\n",
       "      <td>Alabama</td>\n",
       "      <td>Madison</td>\n",
       "      <td>Huntsville</td>\n",
       "      <td>100654</td>\n",
       "      <td>Alabama A&amp;M University</td>\n",
       "      <td>41.0</td>\n",
       "    </tr>\n",
       "    <tr>\n",
       "      <th>1</th>\n",
       "      <td>2020-11-05</td>\n",
       "      <td>Alabama</td>\n",
       "      <td>Limestone</td>\n",
       "      <td>Athens</td>\n",
       "      <td>100812</td>\n",
       "      <td>Athens State University</td>\n",
       "      <td>23.0</td>\n",
       "    </tr>\n",
       "  </tbody>\n",
       "</table>\n",
       "</div>"
      ],
      "text/plain": [
       "         date    state     county        city ipeds_id  \\\n",
       "0  2020-11-05  Alabama    Madison  Huntsville   100654   \n",
       "1  2020-11-05  Alabama  Limestone      Athens   100812   \n",
       "\n",
       "                   college  cases  \n",
       "0   Alabama A&M University   41.0  \n",
       "1  Athens State University   23.0  "
      ]
     },
     "execution_count": 26,
     "metadata": {},
     "output_type": "execute_result"
    }
   ],
   "source": [
    "colleges_unique_df = colleges_df_dropped_nan.drop_duplicates(subset=[\"date\",\"ipeds_id\"])\n",
    "colleges_unique_df = colleges_unique_df.reset_index(drop=True)\n",
    "colleges_unique_df.head(2)"
   ]
  },
  {
   "cell_type": "markdown",
   "metadata": {},
   "source": [
    "###Grouped COVID cases by state"
   ]
  },
  {
   "cell_type": "code",
   "execution_count": 27,
   "metadata": {},
   "outputs": [
    {
     "data": {
      "text/plain": [
       "state\n",
       "Alabama    9858.0\n",
       "Alaska      105.0\n",
       "Name: cases, dtype: float64"
      ]
     },
     "execution_count": 27,
     "metadata": {},
     "output_type": "execute_result"
    }
   ],
   "source": [
    "covid_by_c_state = colleges_df_dropped_nan.groupby(\"state\")['cases'].sum()                                              \n",
    "covid_by_c_state.head(2)"
   ]
  },
  {
   "cell_type": "code",
   "execution_count": 28,
   "metadata": {},
   "outputs": [
    {
     "data": {
      "text/html": [
       "<div>\n",
       "<style scoped>\n",
       "    .dataframe tbody tr th:only-of-type {\n",
       "        vertical-align: middle;\n",
       "    }\n",
       "\n",
       "    .dataframe tbody tr th {\n",
       "        vertical-align: top;\n",
       "    }\n",
       "\n",
       "    .dataframe thead th {\n",
       "        text-align: right;\n",
       "    }\n",
       "</style>\n",
       "<table border=\"1\" class=\"dataframe\">\n",
       "  <thead>\n",
       "    <tr style=\"text-align: right;\">\n",
       "      <th></th>\n",
       "      <th>state</th>\n",
       "      <th>cases</th>\n",
       "    </tr>\n",
       "  </thead>\n",
       "  <tbody>\n",
       "    <tr>\n",
       "      <th>0</th>\n",
       "      <td>Alabama</td>\n",
       "      <td>9858.0</td>\n",
       "    </tr>\n",
       "    <tr>\n",
       "      <th>1</th>\n",
       "      <td>Alaska</td>\n",
       "      <td>105.0</td>\n",
       "    </tr>\n",
       "  </tbody>\n",
       "</table>\n",
       "</div>"
      ],
      "text/plain": [
       "     state   cases\n",
       "0  Alabama  9858.0\n",
       "1   Alaska   105.0"
      ]
     },
     "execution_count": 28,
     "metadata": {},
     "output_type": "execute_result"
    }
   ],
   "source": [
    "covid_by_c_state_df = colleges_df_dropped_nan.groupby(['state'], as_index=False)['cases'].sum()\n",
    "covid_by_c_state_df.head(2)"
   ]
  },
  {
   "cell_type": "markdown",
   "metadata": {},
   "source": [
    "### Sorted  COVID by state list in descending order by the total number of cases."
   ]
  },
  {
   "cell_type": "code",
   "execution_count": 29,
   "metadata": {},
   "outputs": [
    {
     "data": {
      "text/html": [
       "<div>\n",
       "<style scoped>\n",
       "    .dataframe tbody tr th:only-of-type {\n",
       "        vertical-align: middle;\n",
       "    }\n",
       "\n",
       "    .dataframe tbody tr th {\n",
       "        vertical-align: top;\n",
       "    }\n",
       "\n",
       "    .dataframe thead th {\n",
       "        text-align: right;\n",
       "    }\n",
       "</style>\n",
       "<table border=\"1\" class=\"dataframe\">\n",
       "  <thead>\n",
       "    <tr style=\"text-align: right;\">\n",
       "      <th></th>\n",
       "      <th>state</th>\n",
       "      <th>cases</th>\n",
       "    </tr>\n",
       "  </thead>\n",
       "  <tbody>\n",
       "    <tr>\n",
       "      <th>0</th>\n",
       "      <td>Texas</td>\n",
       "      <td>20036.0</td>\n",
       "    </tr>\n",
       "    <tr>\n",
       "      <th>1</th>\n",
       "      <td>Florida</td>\n",
       "      <td>13650.0</td>\n",
       "    </tr>\n",
       "  </tbody>\n",
       "</table>\n",
       "</div>"
      ],
      "text/plain": [
       "     state    cases\n",
       "0    Texas  20036.0\n",
       "1  Florida  13650.0"
      ]
     },
     "execution_count": 29,
     "metadata": {},
     "output_type": "execute_result"
    }
   ],
   "source": [
    "covid_by_state_sorted = covid_by_c_state_df.sort_values('cases', ascending=False).reset_index(drop=True)\n",
    "covid_by_state_sorted.head(2)"
   ]
  },
  {
   "cell_type": "code",
   "execution_count": 60,
   "metadata": {},
   "outputs": [
    {
     "data": {
      "text/plain": [
       "Text(0, 0.5, 'No of Cases')"
      ]
     },
     "execution_count": 60,
     "metadata": {},
     "output_type": "execute_result"
    },
    {
     "data": {
      "image/png": "[encoded data removed]",
      "text/plain": [
       "<Figure size 1008x720 with 1 Axes>"
      ]
     },
     "metadata": {
      "needs_background": "light"
     },
     "output_type": "display_data"
    }
   ],
   "source": [
    "plt.figure(figsize=(14,10))\n",
    "###covid_by_state_sorted.plot(kind=\"bar\")\n",
    "plt.bar(covid_by_state_sorted['state'],covid_by_state_sorted['cases'], color = 'purple')\n",
    "plt.xticks(rotation=90)\n",
    "plt.title('Colleges COVID Cases by State')\n",
    "plt.xlabel('State')\n",
    "plt.ylabel('No of Cases')"
   ]
  },
  {
   "cell_type": "code",
   "execution_count": 31,
   "metadata": {},
   "outputs": [
    {
     "data": {
      "text/plain": [
       "<matplotlib.legend.Legend at 0x1d245164ac8>"
      ]
     },
     "execution_count": 31,
     "metadata": {},
     "output_type": "execute_result"
    },
    {
     "data": {
      "image/png": "[encoded data removed]",
      "text/plain": [
       "<Figure size 1008x720 with 1 Axes>"
      ]
     },
     "metadata": {
      "needs_background": "light"
     },
     "output_type": "display_data"
    }
   ],
   "source": [
    "plt.figure(figsize=(14,10))\n",
    "covid_by_c_state.plot(kind=\"bar\")\n",
    "plt.xticks(rotation=90)\n",
    "plt.title('COVID Cases by State')\n",
    "plt.xlabel('State')\n",
    "plt.ylabel('No of Cases')\n",
    "plt.legend(loc='upper right')"
   ]
  },
  {
   "cell_type": "code",
   "execution_count": 32,
   "metadata": {},
   "outputs": [
    {
     "data": {
      "text/plain": [
       "<matplotlib.axes._subplots.AxesSubplot at 0x1d2450b40c8>"
      ]
     },
     "execution_count": 32,
     "metadata": {},
     "output_type": "execute_result"
    },
    {
     "data": {
      "text/plain": [
       "<Figure size 1008x720 with 0 Axes>"
      ]
     },
     "metadata": {},
     "output_type": "display_data"
    },
    {
     "data": {
      "image/png": "[encoded data removed]",
      "text/plain": [
       "<Figure size 432x288 with 1 Axes>"
      ]
     },
     "metadata": {
      "needs_background": "light"
     },
     "output_type": "display_data"
    }
   ],
   "source": [
    "plt.figure(figsize=(14,10))\n",
    "covid_by_state_sorted.groupby(['state']).median().sort_values(\"cases\").plot.bar()"
   ]
  },
  {
   "cell_type": "markdown",
   "metadata": {},
   "source": [
    "### Top 10 states with Max No of COVID cases"
   ]
  },
  {
   "cell_type": "code",
   "execution_count": 80,
   "metadata": {
    "scrolled": true
   },
   "outputs": [
    {
     "data": {
      "text/html": [
       "<div>\n",
       "<style scoped>\n",
       "    .dataframe tbody tr th:only-of-type {\n",
       "        vertical-align: middle;\n",
       "    }\n",
       "\n",
       "    .dataframe tbody tr th {\n",
       "        vertical-align: top;\n",
       "    }\n",
       "\n",
       "    .dataframe thead th {\n",
       "        text-align: right;\n",
       "    }\n",
       "</style>\n",
       "<table border=\"1\" class=\"dataframe\">\n",
       "  <thead>\n",
       "    <tr style=\"text-align: right;\">\n",
       "      <th></th>\n",
       "      <th>state</th>\n",
       "      <th>cases</th>\n",
       "    </tr>\n",
       "  </thead>\n",
       "  <tbody>\n",
       "    <tr>\n",
       "      <th>0</th>\n",
       "      <td>Texas</td>\n",
       "      <td>20036.0</td>\n",
       "    </tr>\n",
       "    <tr>\n",
       "      <th>1</th>\n",
       "      <td>Florida</td>\n",
       "      <td>13650.0</td>\n",
       "    </tr>\n",
       "    <tr>\n",
       "      <th>2</th>\n",
       "      <td>Ohio</td>\n",
       "      <td>12171.0</td>\n",
       "    </tr>\n",
       "    <tr>\n",
       "      <th>3</th>\n",
       "      <td>Georgia</td>\n",
       "      <td>11406.0</td>\n",
       "    </tr>\n",
       "    <tr>\n",
       "      <th>4</th>\n",
       "      <td>Pennsylvania</td>\n",
       "      <td>10817.0</td>\n",
       "    </tr>\n",
       "    <tr>\n",
       "      <th>5</th>\n",
       "      <td>North Carolina</td>\n",
       "      <td>10296.0</td>\n",
       "    </tr>\n",
       "    <tr>\n",
       "      <th>6</th>\n",
       "      <td>Wisconsin</td>\n",
       "      <td>10054.0</td>\n",
       "    </tr>\n",
       "    <tr>\n",
       "      <th>7</th>\n",
       "      <td>South Carolina</td>\n",
       "      <td>9974.0</td>\n",
       "    </tr>\n",
       "    <tr>\n",
       "      <th>8</th>\n",
       "      <td>Alabama</td>\n",
       "      <td>9858.0</td>\n",
       "    </tr>\n",
       "    <tr>\n",
       "      <th>9</th>\n",
       "      <td>Indiana</td>\n",
       "      <td>9736.0</td>\n",
       "    </tr>\n",
       "  </tbody>\n",
       "</table>\n",
       "</div>"
      ],
      "text/plain": [
       "            state    cases\n",
       "0           Texas  20036.0\n",
       "1         Florida  13650.0\n",
       "2            Ohio  12171.0\n",
       "3         Georgia  11406.0\n",
       "4    Pennsylvania  10817.0\n",
       "5  North Carolina  10296.0\n",
       "6       Wisconsin  10054.0\n",
       "7  South Carolina   9974.0\n",
       "8         Alabama   9858.0\n",
       "9         Indiana   9736.0"
      ]
     },
     "execution_count": 80,
     "metadata": {},
     "output_type": "execute_result"
    }
   ],
   "source": [
    "covid_by_state_sorted = covid_by_c_state_df.sort_values('cases', ascending=False).reset_index(drop=True)\n",
    "#max_covid_c_by_state_top_10 = covid_by_state_sorted.loc[[9,8,7,6,5,4,3,2,1,0]]\n",
    "max_covid_c_by_state_top_10 = covid_by_state_sorted.loc[[0,1,2,3,4,5,6,7,8,9]]\n",
    "max_covid_c_by_state_top_10"
   ]
  },
  {
   "cell_type": "code",
   "execution_count": 65,
   "metadata": {},
   "outputs": [
    {
     "data": {
      "text/plain": [
       "Text(0, 0.5, 'State')"
      ]
     },
     "execution_count": 65,
     "metadata": {},
     "output_type": "execute_result"
    },
    {
     "data": {
      "image/png": "[encoded data removed]",
      "text/plain": [
       "<Figure size 576x576 with 1 Axes>"
      ]
     },
     "metadata": {
      "needs_background": "light"
     },
     "output_type": "display_data"
    }
   ],
   "source": [
    "plt.figure(figsize=(8,8))\n",
    "###covid_c_by_college_top_10.plot(kind=\"bar\")\n",
    "plt.barh(max_covid_c_by_state_top_10['state'],max_covid_c_by_state_top_10['cases'], color = 'purple')\n",
    "plt.xticks(rotation=45)\n",
    "plt.title('Top 10 States with the Most No of College COVID cases')\n",
    "plt.xlabel('No of Cases')\n",
    "plt.ylabel('State')"
   ]
  },
  {
   "cell_type": "markdown",
   "metadata": {},
   "source": [
    "### Bottom 10 states with the least no of College COVID cases"
   ]
  },
  {
   "cell_type": "code",
   "execution_count": 77,
   "metadata": {},
   "outputs": [
    {
     "data": {
      "text/html": [
       "<div>\n",
       "<style scoped>\n",
       "    .dataframe tbody tr th:only-of-type {\n",
       "        vertical-align: middle;\n",
       "    }\n",
       "\n",
       "    .dataframe tbody tr th {\n",
       "        vertical-align: top;\n",
       "    }\n",
       "\n",
       "    .dataframe thead th {\n",
       "        text-align: right;\n",
       "    }\n",
       "</style>\n",
       "<table border=\"1\" class=\"dataframe\">\n",
       "  <thead>\n",
       "    <tr style=\"text-align: right;\">\n",
       "      <th></th>\n",
       "      <th>state</th>\n",
       "      <th>cases</th>\n",
       "    </tr>\n",
       "  </thead>\n",
       "  <tbody>\n",
       "    <tr>\n",
       "      <th>9</th>\n",
       "      <td>Maine</td>\n",
       "      <td>120.0</td>\n",
       "    </tr>\n",
       "    <tr>\n",
       "      <th>8</th>\n",
       "      <td>Alaska</td>\n",
       "      <td>105.0</td>\n",
       "    </tr>\n",
       "    <tr>\n",
       "      <th>7</th>\n",
       "      <td>Vermont</td>\n",
       "      <td>91.0</td>\n",
       "    </tr>\n",
       "    <tr>\n",
       "      <th>6</th>\n",
       "      <td>Hawaii</td>\n",
       "      <td>41.0</td>\n",
       "    </tr>\n",
       "    <tr>\n",
       "      <th>5</th>\n",
       "      <td>Puerto Rico</td>\n",
       "      <td>11.0</td>\n",
       "    </tr>\n",
       "    <tr>\n",
       "      <th>4</th>\n",
       "      <td>Guam</td>\n",
       "      <td>9.0</td>\n",
       "    </tr>\n",
       "    <tr>\n",
       "      <th>3</th>\n",
       "      <td>Virgin Islands</td>\n",
       "      <td>3.0</td>\n",
       "    </tr>\n",
       "    <tr>\n",
       "      <th>2</th>\n",
       "      <td>Northern Mariana Islands</td>\n",
       "      <td>0.0</td>\n",
       "    </tr>\n",
       "    <tr>\n",
       "      <th>1</th>\n",
       "      <td>Marshall Islands</td>\n",
       "      <td>0.0</td>\n",
       "    </tr>\n",
       "    <tr>\n",
       "      <th>0</th>\n",
       "      <td>American Samoa</td>\n",
       "      <td>0.0</td>\n",
       "    </tr>\n",
       "  </tbody>\n",
       "</table>\n",
       "</div>"
      ],
      "text/plain": [
       "                      state  cases\n",
       "9                     Maine  120.0\n",
       "8                    Alaska  105.0\n",
       "7                   Vermont   91.0\n",
       "6                    Hawaii   41.0\n",
       "5               Puerto Rico   11.0\n",
       "4                      Guam    9.0\n",
       "3            Virgin Islands    3.0\n",
       "2  Northern Mariana Islands    0.0\n",
       "1          Marshall Islands    0.0\n",
       "0            American Samoa    0.0"
      ]
     },
     "execution_count": 77,
     "metadata": {},
     "output_type": "execute_result"
    }
   ],
   "source": [
    "covid_by_state_min = covid_by_state_sorted.groupby([\"state\"])['cases'].aggregate(np.median).reset_index().sort_values('cases')\n",
    "covid_by_state_min=covid_by_state_min.reset_index(drop=True)\n",
    "min_covid_c_by_state_top_10 = covid_by_state_min.loc[[9,8,7,6,5,4,3,2,1,0]]\n",
    "#min_covid_c_by_state_top_10 = covid_by_state_min.loc[[0,1,2,3,4,5,6,7,8,9]]\n",
    "min_covid_c_by_state_top_10"
   ]
  },
  {
   "cell_type": "code",
   "execution_count": 78,
   "metadata": {},
   "outputs": [
    {
     "data": {
      "text/plain": [
       "Text(0, 0.5, 'State')"
      ]
     },
     "execution_count": 78,
     "metadata": {},
     "output_type": "execute_result"
    },
    {
     "data": {
      "image/png": "[encoded data removed]",
      "text/plain": [
       "<Figure size 576x576 with 1 Axes>"
      ]
     },
     "metadata": {
      "needs_background": "light"
     },
     "output_type": "display_data"
    }
   ],
   "source": [
    "plt.figure(figsize=(8,8))\n",
    "###covid_c_by_college_top_10.plot(kind=\"bar\")\n",
    "plt.barh(min_covid_c_by_state_top_10['state'],min_covid_c_by_state_top_10['cases'], color = 'blue')\n",
    "plt.xticks(rotation=45)\n",
    "plt.title('Bottom 10 States with the Least No of College COVID cases')\n",
    "plt.xlabel('No of Cases')\n",
    "plt.ylabel('State')"
   ]
  },
  {
   "cell_type": "markdown",
   "metadata": {},
   "source": [
    "### COVID no of cases by College"
   ]
  },
  {
   "cell_type": "code",
   "execution_count": 37,
   "metadata": {},
   "outputs": [
    {
     "data": {
      "text/html": [
       "<div>\n",
       "<style scoped>\n",
       "    .dataframe tbody tr th:only-of-type {\n",
       "        vertical-align: middle;\n",
       "    }\n",
       "\n",
       "    .dataframe tbody tr th {\n",
       "        vertical-align: top;\n",
       "    }\n",
       "\n",
       "    .dataframe thead th {\n",
       "        text-align: right;\n",
       "    }\n",
       "</style>\n",
       "<table border=\"1\" class=\"dataframe\">\n",
       "  <thead>\n",
       "    <tr style=\"text-align: right;\">\n",
       "      <th></th>\n",
       "      <th>date</th>\n",
       "      <th>state</th>\n",
       "      <th>county</th>\n",
       "      <th>city</th>\n",
       "      <th>ipeds_id</th>\n",
       "      <th>college</th>\n",
       "      <th>cases</th>\n",
       "    </tr>\n",
       "  </thead>\n",
       "  <tbody>\n",
       "    <tr>\n",
       "      <th>0</th>\n",
       "      <td>2020-11-05</td>\n",
       "      <td>Alabama</td>\n",
       "      <td>Madison</td>\n",
       "      <td>Huntsville</td>\n",
       "      <td>100654</td>\n",
       "      <td>Alabama A&amp;M University</td>\n",
       "      <td>41.0</td>\n",
       "    </tr>\n",
       "    <tr>\n",
       "      <th>1</th>\n",
       "      <td>2020-11-05</td>\n",
       "      <td>Alabama</td>\n",
       "      <td>Limestone</td>\n",
       "      <td>Athens</td>\n",
       "      <td>100812</td>\n",
       "      <td>Athens State University</td>\n",
       "      <td>23.0</td>\n",
       "    </tr>\n",
       "    <tr>\n",
       "      <th>2</th>\n",
       "      <td>2020-11-05</td>\n",
       "      <td>Alabama</td>\n",
       "      <td>Lee</td>\n",
       "      <td>Auburn</td>\n",
       "      <td>100858</td>\n",
       "      <td>Auburn University</td>\n",
       "      <td>2047.0</td>\n",
       "    </tr>\n",
       "  </tbody>\n",
       "</table>\n",
       "</div>"
      ],
      "text/plain": [
       "         date    state     county        city ipeds_id  \\\n",
       "0  2020-11-05  Alabama    Madison  Huntsville   100654   \n",
       "1  2020-11-05  Alabama  Limestone      Athens   100812   \n",
       "2  2020-11-05  Alabama        Lee      Auburn   100858   \n",
       "\n",
       "                   college   cases  \n",
       "0   Alabama A&M University    41.0  \n",
       "1  Athens State University    23.0  \n",
       "2        Auburn University  2047.0  "
      ]
     },
     "execution_count": 37,
     "metadata": {},
     "output_type": "execute_result"
    }
   ],
   "source": [
    "colleges_df_dropped_nan.head(3)"
   ]
  },
  {
   "cell_type": "code",
   "execution_count": 38,
   "metadata": {},
   "outputs": [
    {
     "data": {
      "text/html": [
       "<div>\n",
       "<style scoped>\n",
       "    .dataframe tbody tr th:only-of-type {\n",
       "        vertical-align: middle;\n",
       "    }\n",
       "\n",
       "    .dataframe tbody tr th {\n",
       "        vertical-align: top;\n",
       "    }\n",
       "\n",
       "    .dataframe thead th {\n",
       "        text-align: right;\n",
       "    }\n",
       "</style>\n",
       "<table border=\"1\" class=\"dataframe\">\n",
       "  <thead>\n",
       "    <tr style=\"text-align: right;\">\n",
       "      <th></th>\n",
       "      <th>college</th>\n",
       "      <th>state</th>\n",
       "      <th>cases</th>\n",
       "    </tr>\n",
       "  </thead>\n",
       "  <tbody>\n",
       "    <tr>\n",
       "      <th>0</th>\n",
       "      <td>Abilene Christian University</td>\n",
       "      <td>Texas</td>\n",
       "      <td>297.0</td>\n",
       "    </tr>\n",
       "    <tr>\n",
       "      <th>1</th>\n",
       "      <td>Abraham Baldwin Agricultural College</td>\n",
       "      <td>Georgia</td>\n",
       "      <td>130.0</td>\n",
       "    </tr>\n",
       "    <tr>\n",
       "      <th>2</th>\n",
       "      <td>Adams State University</td>\n",
       "      <td>Colorado</td>\n",
       "      <td>17.0</td>\n",
       "    </tr>\n",
       "    <tr>\n",
       "      <th>3</th>\n",
       "      <td>Adelphi University</td>\n",
       "      <td>New York</td>\n",
       "      <td>31.0</td>\n",
       "    </tr>\n",
       "    <tr>\n",
       "      <th>4</th>\n",
       "      <td>Adirondack Community College</td>\n",
       "      <td>New York</td>\n",
       "      <td>3.0</td>\n",
       "    </tr>\n",
       "  </tbody>\n",
       "</table>\n",
       "</div>"
      ],
      "text/plain": [
       "                                college     state  cases\n",
       "0          Abilene Christian University     Texas  297.0\n",
       "1  Abraham Baldwin Agricultural College   Georgia  130.0\n",
       "2                Adams State University  Colorado   17.0\n",
       "3                    Adelphi University  New York   31.0\n",
       "4          Adirondack Community College  New York    3.0"
      ]
     },
     "execution_count": 38,
     "metadata": {},
     "output_type": "execute_result"
    }
   ],
   "source": [
    "covid_c_by_college = colleges_df_dropped_nan.groupby(['college','state'],as_index=False)['cases'].sum()\n",
    "covid_c_by_college.head()"
   ]
  },
  {
   "cell_type": "markdown",
   "metadata": {},
   "source": [
    "### Top 10 Colleges with Max No of COVID cases"
   ]
  },
  {
   "cell_type": "code",
   "execution_count": 75,
   "metadata": {},
   "outputs": [
    {
     "data": {
      "text/html": [
       "<div>\n",
       "<style scoped>\n",
       "    .dataframe tbody tr th:only-of-type {\n",
       "        vertical-align: middle;\n",
       "    }\n",
       "\n",
       "    .dataframe tbody tr th {\n",
       "        vertical-align: top;\n",
       "    }\n",
       "\n",
       "    .dataframe thead th {\n",
       "        text-align: right;\n",
       "    }\n",
       "</style>\n",
       "<table border=\"1\" class=\"dataframe\">\n",
       "  <thead>\n",
       "    <tr style=\"text-align: right;\">\n",
       "      <th></th>\n",
       "      <th>college</th>\n",
       "      <th>state</th>\n",
       "      <th>cases</th>\n",
       "    </tr>\n",
       "  </thead>\n",
       "  <tbody>\n",
       "    <tr>\n",
       "      <th>0</th>\n",
       "      <td>Clemson University</td>\n",
       "      <td>South Carolina</td>\n",
       "      <td>4831.0</td>\n",
       "    </tr>\n",
       "    <tr>\n",
       "      <th>1</th>\n",
       "      <td>University of Florida</td>\n",
       "      <td>Florida</td>\n",
       "      <td>4461.0</td>\n",
       "    </tr>\n",
       "    <tr>\n",
       "      <th>2</th>\n",
       "      <td>University of Georgia</td>\n",
       "      <td>Georgia</td>\n",
       "      <td>4198.0</td>\n",
       "    </tr>\n",
       "    <tr>\n",
       "      <th>3</th>\n",
       "      <td>Penn State University</td>\n",
       "      <td>Pennsylvania</td>\n",
       "      <td>3883.0</td>\n",
       "    </tr>\n",
       "    <tr>\n",
       "      <th>4</th>\n",
       "      <td>Ohio State University</td>\n",
       "      <td>Ohio</td>\n",
       "      <td>3711.0</td>\n",
       "    </tr>\n",
       "    <tr>\n",
       "      <th>5</th>\n",
       "      <td>University of Wisconsin-Madison</td>\n",
       "      <td>Wisconsin</td>\n",
       "      <td>3626.0</td>\n",
       "    </tr>\n",
       "    <tr>\n",
       "      <th>6</th>\n",
       "      <td>Indiana University Bloomington</td>\n",
       "      <td>Indiana</td>\n",
       "      <td>3369.0</td>\n",
       "    </tr>\n",
       "    <tr>\n",
       "      <th>7</th>\n",
       "      <td>University of Illinois Urbana-Champaign</td>\n",
       "      <td>Illinois</td>\n",
       "      <td>3241.0</td>\n",
       "    </tr>\n",
       "    <tr>\n",
       "      <th>8</th>\n",
       "      <td>University of Alabama</td>\n",
       "      <td>Alabama</td>\n",
       "      <td>3037.0</td>\n",
       "    </tr>\n",
       "    <tr>\n",
       "      <th>9</th>\n",
       "      <td>University of South Carolina</td>\n",
       "      <td>South Carolina</td>\n",
       "      <td>2675.0</td>\n",
       "    </tr>\n",
       "  </tbody>\n",
       "</table>\n",
       "</div>"
      ],
      "text/plain": [
       "                                   college           state   cases\n",
       "0                       Clemson University  South Carolina  4831.0\n",
       "1                    University of Florida         Florida  4461.0\n",
       "2                    University of Georgia         Georgia  4198.0\n",
       "3                    Penn State University    Pennsylvania  3883.0\n",
       "4                    Ohio State University            Ohio  3711.0\n",
       "5          University of Wisconsin-Madison       Wisconsin  3626.0\n",
       "6           Indiana University Bloomington         Indiana  3369.0\n",
       "7  University of Illinois Urbana-Champaign        Illinois  3241.0\n",
       "8                    University of Alabama         Alabama  3037.0\n",
       "9             University of South Carolina  South Carolina  2675.0"
      ]
     },
     "execution_count": 75,
     "metadata": {},
     "output_type": "execute_result"
    }
   ],
   "source": [
    "covid_c_by_college_sorted=covid_c_by_college.sort_values('cases', ascending=False).reset_index(drop=True)\n",
    "#covid_c_by_college_top_10 = covid_c_by_college_sorted.loc[[9,8,7,6,5,4,3,2,1,0]]\n",
    "covid_c_by_college_top_10 = covid_c_by_college_sorted.loc[[0,1,2,3,4,5,6,7,8,9]]\n",
    "covid_c_by_college_top_10"
   ]
  },
  {
   "cell_type": "code",
   "execution_count": 73,
   "metadata": {},
   "outputs": [
    {
     "data": {
      "text/plain": [
       "Text(0, 0.5, 'College')"
      ]
     },
     "execution_count": 73,
     "metadata": {},
     "output_type": "execute_result"
    },
    {
     "data": {
      "image/png": "[encoded data removed]",
      "text/plain": [
       "<Figure size 576x576 with 1 Axes>"
      ]
     },
     "metadata": {
      "needs_background": "light"
     },
     "output_type": "display_data"
    }
   ],
   "source": [
    "plt.figure(figsize=(8,8))\n",
    "###covid_c_by_college_top_10.plot(kind=\"bar\")\n",
    "plt.barh(covid_c_by_college_top_10['college'],covid_c_by_college_top_10['cases'], color = 'blue')\n",
    "plt.xticks(rotation=45)\n",
    "plt.title('Top 10 Colleges with Max No of COVID cases')\n",
    "plt.xlabel('No of Cases')\n",
    "plt.ylabel('College')"
   ]
  },
  {
   "cell_type": "markdown",
   "metadata": {},
   "source": [
    "### No of Colleges by State"
   ]
  },
  {
   "cell_type": "code",
   "execution_count": 41,
   "metadata": {},
   "outputs": [
    {
     "data": {
      "text/html": [
       "<div>\n",
       "<style scoped>\n",
       "    .dataframe tbody tr th:only-of-type {\n",
       "        vertical-align: middle;\n",
       "    }\n",
       "\n",
       "    .dataframe tbody tr th {\n",
       "        vertical-align: top;\n",
       "    }\n",
       "\n",
       "    .dataframe thead th {\n",
       "        text-align: right;\n",
       "    }\n",
       "</style>\n",
       "<table border=\"1\" class=\"dataframe\">\n",
       "  <thead>\n",
       "    <tr style=\"text-align: right;\">\n",
       "      <th></th>\n",
       "      <th>date</th>\n",
       "      <th>state</th>\n",
       "      <th>county</th>\n",
       "      <th>city</th>\n",
       "      <th>ipeds_id</th>\n",
       "      <th>college</th>\n",
       "      <th>cases</th>\n",
       "    </tr>\n",
       "  </thead>\n",
       "  <tbody>\n",
       "    <tr>\n",
       "      <th>0</th>\n",
       "      <td>2020-11-05</td>\n",
       "      <td>Alabama</td>\n",
       "      <td>Madison</td>\n",
       "      <td>Huntsville</td>\n",
       "      <td>100654</td>\n",
       "      <td>Alabama A&amp;M University</td>\n",
       "      <td>41.0</td>\n",
       "    </tr>\n",
       "    <tr>\n",
       "      <th>1</th>\n",
       "      <td>2020-11-05</td>\n",
       "      <td>Alabama</td>\n",
       "      <td>Limestone</td>\n",
       "      <td>Athens</td>\n",
       "      <td>100812</td>\n",
       "      <td>Athens State University</td>\n",
       "      <td>23.0</td>\n",
       "    </tr>\n",
       "  </tbody>\n",
       "</table>\n",
       "</div>"
      ],
      "text/plain": [
       "         date    state     county        city ipeds_id  \\\n",
       "0  2020-11-05  Alabama    Madison  Huntsville   100654   \n",
       "1  2020-11-05  Alabama  Limestone      Athens   100812   \n",
       "\n",
       "                   college  cases  \n",
       "0   Alabama A&M University   41.0  \n",
       "1  Athens State University   23.0  "
      ]
     },
     "execution_count": 41,
     "metadata": {},
     "output_type": "execute_result"
    }
   ],
   "source": [
    "colleges_by_state_unique_df = colleges_df_dropped_nan.drop_duplicates(subset=[\"college\"])\n",
    "ccolleges_by_state_unique_df= colleges_by_state_unique_df.reset_index(drop=True)\n",
    "colleges_by_state_unique_df.head(2)"
   ]
  },
  {
   "cell_type": "code",
   "execution_count": 42,
   "metadata": {},
   "outputs": [
    {
     "data": {
      "text/plain": [
       "False"
      ]
     },
     "execution_count": 42,
     "metadata": {},
     "output_type": "execute_result"
    }
   ],
   "source": [
    "boolean = not colleges_by_state_unique_df[\"college\"].is_unique      \n",
    "boolean = colleges_by_state_unique_df['college'].duplicated().any()\n",
    "boolean"
   ]
  },
  {
   "cell_type": "code",
   "execution_count": 43,
   "metadata": {},
   "outputs": [
    {
     "data": {
      "text/plain": [
       "New York         154\n",
       "Pennsylvania     112\n",
       "Florida           90\n",
       "Texas             82\n",
       "California        81\n",
       "Ohio              67\n",
       "Tennessee         65\n",
       "Minnesota         58\n",
       "Massachusetts     57\n",
       "Kentucky          52\n",
       "Name: state, dtype: int64"
      ]
     },
     "execution_count": 43,
     "metadata": {},
     "output_type": "execute_result"
    }
   ],
   "source": [
    "colleges_by_state = colleges_by_state_unique_df['state'].value_counts()\n",
    "colleges_by_state.head(10)"
   ]
  },
  {
   "cell_type": "code",
   "execution_count": 44,
   "metadata": {},
   "outputs": [
    {
     "data": {
      "text/plain": [
       "college    Clemson University\n",
       "state          South Carolina\n",
       "cases                    4831\n",
       "Name: 0, dtype: object"
      ]
     },
     "execution_count": 44,
     "metadata": {},
     "output_type": "execute_result"
    }
   ],
   "source": [
    "max_covic_c_df=covid_c_by_college_sorted.loc[covid_c_by_college_sorted['cases'].idxmax()]\n",
    "max_covic_c_df"
   ]
  },
  {
   "cell_type": "code",
   "execution_count": 45,
   "metadata": {},
   "outputs": [
    {
     "data": {
      "text/plain": [
       "date                2020-11-05\n",
       "state           South Carolina\n",
       "county                 Pickens\n",
       "city                   Clemson\n",
       "ipeds_id                217882\n",
       "college     Clemson University\n",
       "cases                     4831\n",
       "Name: 1338, dtype: object"
      ]
     },
     "execution_count": 45,
     "metadata": {},
     "output_type": "execute_result"
    }
   ],
   "source": [
    "max_covic_c_df=colleges_by_state_unique_df.loc[colleges_by_state_unique_df['cases'].idxmax()]\n",
    "max_covic_c_df"
   ]
  },
  {
   "cell_type": "code",
   "execution_count": 46,
   "metadata": {},
   "outputs": [
    {
     "data": {
      "text/html": [
       "<div>\n",
       "<style scoped>\n",
       "    .dataframe tbody tr th:only-of-type {\n",
       "        vertical-align: middle;\n",
       "    }\n",
       "\n",
       "    .dataframe tbody tr th {\n",
       "        vertical-align: top;\n",
       "    }\n",
       "\n",
       "    .dataframe thead th {\n",
       "        text-align: right;\n",
       "    }\n",
       "</style>\n",
       "<table border=\"1\" class=\"dataframe\">\n",
       "  <thead>\n",
       "    <tr style=\"text-align: right;\">\n",
       "      <th></th>\n",
       "      <th>date</th>\n",
       "      <th>state</th>\n",
       "      <th>county</th>\n",
       "      <th>city</th>\n",
       "      <th>ipeds_id</th>\n",
       "      <th>college</th>\n",
       "      <th>cases</th>\n",
       "    </tr>\n",
       "  </thead>\n",
       "  <tbody>\n",
       "    <tr>\n",
       "      <th>0</th>\n",
       "      <td>2020-11-05</td>\n",
       "      <td>South Carolina</td>\n",
       "      <td>Pickens</td>\n",
       "      <td>Clemson</td>\n",
       "      <td>217882</td>\n",
       "      <td>Clemson University</td>\n",
       "      <td>4831.0</td>\n",
       "    </tr>\n",
       "  </tbody>\n",
       "</table>\n",
       "</div>"
      ],
      "text/plain": [
       "         date           state   county     city ipeds_id             college  \\\n",
       "0  2020-11-05  South Carolina  Pickens  Clemson   217882  Clemson University   \n",
       "\n",
       "    cases  \n",
       "0  4831.0  "
      ]
     },
     "execution_count": 46,
     "metadata": {},
     "output_type": "execute_result"
    }
   ],
   "source": [
    "clemson = colleges_df_dropped_nan[(colleges_df_dropped_nan['college'] == 'Clemson University')].reset_index(drop=True)\n",
    "clemson"
   ]
  },
  {
   "cell_type": "markdown",
   "metadata": {},
   "source": [
    "### New York State has the biggest number of Colleges (155). Let's look at the distribution of COVID cases there."
   ]
  },
  {
   "cell_type": "code",
   "execution_count": 47,
   "metadata": {},
   "outputs": [
    {
     "data": {
      "text/html": [
       "<div>\n",
       "<style scoped>\n",
       "    .dataframe tbody tr th:only-of-type {\n",
       "        vertical-align: middle;\n",
       "    }\n",
       "\n",
       "    .dataframe tbody tr th {\n",
       "        vertical-align: top;\n",
       "    }\n",
       "\n",
       "    .dataframe thead th {\n",
       "        text-align: right;\n",
       "    }\n",
       "</style>\n",
       "<table border=\"1\" class=\"dataframe\">\n",
       "  <thead>\n",
       "    <tr style=\"text-align: right;\">\n",
       "      <th></th>\n",
       "      <th>date</th>\n",
       "      <th>state</th>\n",
       "      <th>county</th>\n",
       "      <th>city</th>\n",
       "      <th>ipeds_id</th>\n",
       "      <th>college</th>\n",
       "      <th>cases</th>\n",
       "    </tr>\n",
       "  </thead>\n",
       "  <tbody>\n",
       "    <tr>\n",
       "      <th>0</th>\n",
       "      <td>2020-11-05</td>\n",
       "      <td>New York</td>\n",
       "      <td>Nassau</td>\n",
       "      <td>Garden City</td>\n",
       "      <td>188429</td>\n",
       "      <td>Adelphi University</td>\n",
       "      <td>31.0</td>\n",
       "    </tr>\n",
       "    <tr>\n",
       "      <th>1</th>\n",
       "      <td>2020-11-05</td>\n",
       "      <td>New York</td>\n",
       "      <td>Warren</td>\n",
       "      <td>Queensbury</td>\n",
       "      <td>188438</td>\n",
       "      <td>Adirondack Community College</td>\n",
       "      <td>3.0</td>\n",
       "    </tr>\n",
       "  </tbody>\n",
       "</table>\n",
       "</div>"
      ],
      "text/plain": [
       "         date     state  county         city ipeds_id  \\\n",
       "0  2020-11-05  New York  Nassau  Garden City   188429   \n",
       "1  2020-11-05  New York  Warren   Queensbury   188438   \n",
       "\n",
       "                        college  cases  \n",
       "0            Adelphi University   31.0  \n",
       "1  Adirondack Community College    3.0  "
      ]
     },
     "execution_count": 47,
     "metadata": {},
     "output_type": "execute_result"
    }
   ],
   "source": [
    "ny_colleges = colleges_df_dropped_nan[(colleges_df_dropped_nan['state'] == 'New York')].reset_index(drop=True)\n",
    "ny_colleges.head(2)"
   ]
  },
  {
   "cell_type": "code",
   "execution_count": 48,
   "metadata": {},
   "outputs": [
    {
     "data": {
      "text/html": [
       "<div>\n",
       "<style scoped>\n",
       "    .dataframe tbody tr th:only-of-type {\n",
       "        vertical-align: middle;\n",
       "    }\n",
       "\n",
       "    .dataframe tbody tr th {\n",
       "        vertical-align: top;\n",
       "    }\n",
       "\n",
       "    .dataframe thead th {\n",
       "        text-align: right;\n",
       "    }\n",
       "</style>\n",
       "<table border=\"1\" class=\"dataframe\">\n",
       "  <thead>\n",
       "    <tr style=\"text-align: right;\">\n",
       "      <th></th>\n",
       "      <th>date</th>\n",
       "      <th>state</th>\n",
       "      <th>county</th>\n",
       "      <th>city</th>\n",
       "      <th>ipeds_id</th>\n",
       "      <th>college</th>\n",
       "      <th>cases</th>\n",
       "    </tr>\n",
       "  </thead>\n",
       "  <tbody>\n",
       "    <tr>\n",
       "      <th>0</th>\n",
       "      <td>2020-11-05</td>\n",
       "      <td>New York</td>\n",
       "      <td>Otsego</td>\n",
       "      <td>Oneonta</td>\n",
       "      <td>196185</td>\n",
       "      <td>SUNY Oneonta</td>\n",
       "      <td>730.0</td>\n",
       "    </tr>\n",
       "    <tr>\n",
       "      <th>1</th>\n",
       "      <td>2020-11-05</td>\n",
       "      <td>New York</td>\n",
       "      <td>Cortland</td>\n",
       "      <td>Cortland</td>\n",
       "      <td>196149</td>\n",
       "      <td>SUNY Cortland</td>\n",
       "      <td>598.0</td>\n",
       "    </tr>\n",
       "    <tr>\n",
       "      <th>2</th>\n",
       "      <td>2020-11-05</td>\n",
       "      <td>New York</td>\n",
       "      <td>Suffolk</td>\n",
       "      <td>Stony Brook</td>\n",
       "      <td>196097</td>\n",
       "      <td>Stony Brook University</td>\n",
       "      <td>524.0</td>\n",
       "    </tr>\n",
       "    <tr>\n",
       "      <th>3</th>\n",
       "      <td>2020-11-05</td>\n",
       "      <td>New York</td>\n",
       "      <td>New York City</td>\n",
       "      <td>New York City</td>\n",
       "      <td>193900</td>\n",
       "      <td>New York University</td>\n",
       "      <td>455.0</td>\n",
       "    </tr>\n",
       "    <tr>\n",
       "      <th>4</th>\n",
       "      <td>2020-11-05</td>\n",
       "      <td>New York</td>\n",
       "      <td>Oswego</td>\n",
       "      <td>Oswego</td>\n",
       "      <td>196194</td>\n",
       "      <td>SUNY Oswego</td>\n",
       "      <td>295.0</td>\n",
       "    </tr>\n",
       "    <tr>\n",
       "      <th>5</th>\n",
       "      <td>2020-11-05</td>\n",
       "      <td>New York</td>\n",
       "      <td>Broome</td>\n",
       "      <td>Vestal</td>\n",
       "      <td>196079</td>\n",
       "      <td>SUNY Binghamton</td>\n",
       "      <td>266.0</td>\n",
       "    </tr>\n",
       "    <tr>\n",
       "      <th>6</th>\n",
       "      <td>2020-11-05</td>\n",
       "      <td>New York</td>\n",
       "      <td>Onondaga</td>\n",
       "      <td>Syracuse</td>\n",
       "      <td>196413</td>\n",
       "      <td>Syracuse University</td>\n",
       "      <td>257.0</td>\n",
       "    </tr>\n",
       "    <tr>\n",
       "      <th>7</th>\n",
       "      <td>2020-11-05</td>\n",
       "      <td>New York</td>\n",
       "      <td>Erie</td>\n",
       "      <td>Buffalo</td>\n",
       "      <td>196088</td>\n",
       "      <td>SUNY University at Buffalo</td>\n",
       "      <td>249.0</td>\n",
       "    </tr>\n",
       "    <tr>\n",
       "      <th>8</th>\n",
       "      <td>2020-11-05</td>\n",
       "      <td>New York</td>\n",
       "      <td>Albany</td>\n",
       "      <td>Albany</td>\n",
       "      <td>196060</td>\n",
       "      <td>SUNY Albany</td>\n",
       "      <td>191.0</td>\n",
       "    </tr>\n",
       "    <tr>\n",
       "      <th>9</th>\n",
       "      <td>2020-11-05</td>\n",
       "      <td>New York</td>\n",
       "      <td>Tompkins</td>\n",
       "      <td>Ithaca</td>\n",
       "      <td>190415</td>\n",
       "      <td>Cornell University</td>\n",
       "      <td>185.0</td>\n",
       "    </tr>\n",
       "  </tbody>\n",
       "</table>\n",
       "</div>"
      ],
      "text/plain": [
       "         date     state         county           city ipeds_id  \\\n",
       "0  2020-11-05  New York         Otsego        Oneonta   196185   \n",
       "1  2020-11-05  New York       Cortland       Cortland   196149   \n",
       "2  2020-11-05  New York        Suffolk    Stony Brook   196097   \n",
       "3  2020-11-05  New York  New York City  New York City   193900   \n",
       "4  2020-11-05  New York         Oswego         Oswego   196194   \n",
       "5  2020-11-05  New York         Broome         Vestal   196079   \n",
       "6  2020-11-05  New York       Onondaga       Syracuse   196413   \n",
       "7  2020-11-05  New York           Erie        Buffalo   196088   \n",
       "8  2020-11-05  New York         Albany         Albany   196060   \n",
       "9  2020-11-05  New York       Tompkins         Ithaca   190415   \n",
       "\n",
       "                      college  cases  \n",
       "0                SUNY Oneonta  730.0  \n",
       "1               SUNY Cortland  598.0  \n",
       "2      Stony Brook University  524.0  \n",
       "3         New York University  455.0  \n",
       "4                 SUNY Oswego  295.0  \n",
       "5             SUNY Binghamton  266.0  \n",
       "6         Syracuse University  257.0  \n",
       "7  SUNY University at Buffalo  249.0  \n",
       "8                 SUNY Albany  191.0  \n",
       "9          Cornell University  185.0  "
      ]
     },
     "execution_count": 48,
     "metadata": {},
     "output_type": "execute_result"
    }
   ],
   "source": [
    "ny_colleges_sorted=ny_colleges.sort_values('cases', ascending=False).reset_index(drop=True)\n",
    "ny_colleges_sorted.head(10)"
   ]
  },
  {
   "cell_type": "markdown",
   "metadata": {},
   "source": [
    "### Now let's look at top 10 Colleges with the most COVID cases in top 5 states"
   ]
  },
  {
   "cell_type": "markdown",
   "metadata": {},
   "source": [
    "### #1.TEXAS"
   ]
  },
  {
   "cell_type": "code",
   "execution_count": 49,
   "metadata": {},
   "outputs": [
    {
     "data": {
      "text/html": [
       "<div>\n",
       "<style scoped>\n",
       "    .dataframe tbody tr th:only-of-type {\n",
       "        vertical-align: middle;\n",
       "    }\n",
       "\n",
       "    .dataframe tbody tr th {\n",
       "        vertical-align: top;\n",
       "    }\n",
       "\n",
       "    .dataframe thead th {\n",
       "        text-align: right;\n",
       "    }\n",
       "</style>\n",
       "<table border=\"1\" class=\"dataframe\">\n",
       "  <thead>\n",
       "    <tr style=\"text-align: right;\">\n",
       "      <th></th>\n",
       "      <th>date</th>\n",
       "      <th>state</th>\n",
       "      <th>county</th>\n",
       "      <th>city</th>\n",
       "      <th>ipeds_id</th>\n",
       "      <th>college</th>\n",
       "      <th>cases</th>\n",
       "    </tr>\n",
       "  </thead>\n",
       "  <tbody>\n",
       "    <tr>\n",
       "      <th>0</th>\n",
       "      <td>2020-11-05</td>\n",
       "      <td>Texas</td>\n",
       "      <td>Taylor</td>\n",
       "      <td>Abilene</td>\n",
       "      <td>222178</td>\n",
       "      <td>Abilene Christian University</td>\n",
       "      <td>297.0</td>\n",
       "    </tr>\n",
       "    <tr>\n",
       "      <th>1</th>\n",
       "      <td>2020-11-05</td>\n",
       "      <td>Texas</td>\n",
       "      <td>Tom Green</td>\n",
       "      <td>San Angelo</td>\n",
       "      <td>222831</td>\n",
       "      <td>Angelo State University</td>\n",
       "      <td>178.0</td>\n",
       "    </tr>\n",
       "  </tbody>\n",
       "</table>\n",
       "</div>"
      ],
      "text/plain": [
       "         date  state     county        city ipeds_id  \\\n",
       "0  2020-11-05  Texas     Taylor     Abilene   222178   \n",
       "1  2020-11-05  Texas  Tom Green  San Angelo   222831   \n",
       "\n",
       "                        college  cases  \n",
       "0  Abilene Christian University  297.0  \n",
       "1       Angelo State University  178.0  "
      ]
     },
     "execution_count": 49,
     "metadata": {},
     "output_type": "execute_result"
    }
   ],
   "source": [
    "texas_colleges = colleges_df_dropped_nan[(colleges_df_dropped_nan['state'] == 'Texas')].reset_index(drop=True)\n",
    "texas_colleges.head(2)"
   ]
  },
  {
   "cell_type": "code",
   "execution_count": 50,
   "metadata": {},
   "outputs": [
    {
     "data": {
      "text/html": [
       "<div>\n",
       "<style scoped>\n",
       "    .dataframe tbody tr th:only-of-type {\n",
       "        vertical-align: middle;\n",
       "    }\n",
       "\n",
       "    .dataframe tbody tr th {\n",
       "        vertical-align: top;\n",
       "    }\n",
       "\n",
       "    .dataframe thead th {\n",
       "        text-align: right;\n",
       "    }\n",
       "</style>\n",
       "<table border=\"1\" class=\"dataframe\">\n",
       "  <thead>\n",
       "    <tr style=\"text-align: right;\">\n",
       "      <th></th>\n",
       "      <th>date</th>\n",
       "      <th>state</th>\n",
       "      <th>county</th>\n",
       "      <th>city</th>\n",
       "      <th>ipeds_id</th>\n",
       "      <th>college</th>\n",
       "      <th>cases</th>\n",
       "    </tr>\n",
       "  </thead>\n",
       "  <tbody>\n",
       "    <tr>\n",
       "      <th>9</th>\n",
       "      <td>2020-11-05</td>\n",
       "      <td>Texas</td>\n",
       "      <td>Denton</td>\n",
       "      <td>Denton</td>\n",
       "      <td>227216</td>\n",
       "      <td>University of North Texas</td>\n",
       "      <td>474.0</td>\n",
       "    </tr>\n",
       "    <tr>\n",
       "      <th>8</th>\n",
       "      <td>2020-11-05</td>\n",
       "      <td>Texas</td>\n",
       "      <td>Walker</td>\n",
       "      <td>Huntsville</td>\n",
       "      <td>227881</td>\n",
       "      <td>Sam Houston State University</td>\n",
       "      <td>652.0</td>\n",
       "    </tr>\n",
       "    <tr>\n",
       "      <th>7</th>\n",
       "      <td>2020-11-05</td>\n",
       "      <td>Texas</td>\n",
       "      <td>Dallas</td>\n",
       "      <td>Dallas</td>\n",
       "      <td>228246</td>\n",
       "      <td>Southern Methodist University</td>\n",
       "      <td>757.0</td>\n",
       "    </tr>\n",
       "    <tr>\n",
       "      <th>6</th>\n",
       "      <td>2020-11-05</td>\n",
       "      <td>Texas</td>\n",
       "      <td>Hays</td>\n",
       "      <td>San Marcos</td>\n",
       "      <td>228459</td>\n",
       "      <td>Texas State University</td>\n",
       "      <td>797.0</td>\n",
       "    </tr>\n",
       "    <tr>\n",
       "      <th>5</th>\n",
       "      <td>2020-11-05</td>\n",
       "      <td>Texas</td>\n",
       "      <td>El Paso</td>\n",
       "      <td>El Paso</td>\n",
       "      <td>228796</td>\n",
       "      <td>University of Texas at El Paso</td>\n",
       "      <td>835.0</td>\n",
       "    </tr>\n",
       "    <tr>\n",
       "      <th>4</th>\n",
       "      <td>2020-11-05</td>\n",
       "      <td>Texas</td>\n",
       "      <td>McLennan</td>\n",
       "      <td>Waco</td>\n",
       "      <td>223232</td>\n",
       "      <td>Baylor University</td>\n",
       "      <td>1181.0</td>\n",
       "    </tr>\n",
       "    <tr>\n",
       "      <th>3</th>\n",
       "      <td>2020-11-05</td>\n",
       "      <td>Texas</td>\n",
       "      <td>Tarrant</td>\n",
       "      <td>Fort Worth</td>\n",
       "      <td>228875</td>\n",
       "      <td>Texas Christian University</td>\n",
       "      <td>1292.0</td>\n",
       "    </tr>\n",
       "    <tr>\n",
       "      <th>2</th>\n",
       "      <td>2020-11-05</td>\n",
       "      <td>Texas</td>\n",
       "      <td>Travis</td>\n",
       "      <td>Austin</td>\n",
       "      <td>228778</td>\n",
       "      <td>University of Texas at Austin</td>\n",
       "      <td>1581.0</td>\n",
       "    </tr>\n",
       "    <tr>\n",
       "      <th>1</th>\n",
       "      <td>2020-11-05</td>\n",
       "      <td>Texas</td>\n",
       "      <td>Brazos</td>\n",
       "      <td>College Station</td>\n",
       "      <td>228723</td>\n",
       "      <td>Texas A&amp;M University</td>\n",
       "      <td>2037.0</td>\n",
       "    </tr>\n",
       "    <tr>\n",
       "      <th>0</th>\n",
       "      <td>2020-11-05</td>\n",
       "      <td>Texas</td>\n",
       "      <td>Lubbock</td>\n",
       "      <td>Lubbock</td>\n",
       "      <td>229115</td>\n",
       "      <td>Texas Tech University</td>\n",
       "      <td>2259.0</td>\n",
       "    </tr>\n",
       "  </tbody>\n",
       "</table>\n",
       "</div>"
      ],
      "text/plain": [
       "         date  state    county             city ipeds_id  \\\n",
       "9  2020-11-05  Texas    Denton           Denton   227216   \n",
       "8  2020-11-05  Texas    Walker       Huntsville   227881   \n",
       "7  2020-11-05  Texas    Dallas           Dallas   228246   \n",
       "6  2020-11-05  Texas      Hays       San Marcos   228459   \n",
       "5  2020-11-05  Texas   El Paso          El Paso   228796   \n",
       "4  2020-11-05  Texas  McLennan             Waco   223232   \n",
       "3  2020-11-05  Texas   Tarrant       Fort Worth   228875   \n",
       "2  2020-11-05  Texas    Travis           Austin   228778   \n",
       "1  2020-11-05  Texas    Brazos  College Station   228723   \n",
       "0  2020-11-05  Texas   Lubbock          Lubbock   229115   \n",
       "\n",
       "                          college   cases  \n",
       "9       University of North Texas   474.0  \n",
       "8    Sam Houston State University   652.0  \n",
       "7   Southern Methodist University   757.0  \n",
       "6          Texas State University   797.0  \n",
       "5  University of Texas at El Paso   835.0  \n",
       "4               Baylor University  1181.0  \n",
       "3      Texas Christian University  1292.0  \n",
       "2   University of Texas at Austin  1581.0  \n",
       "1            Texas A&M University  2037.0  \n",
       "0           Texas Tech University  2259.0  "
      ]
     },
     "execution_count": 50,
     "metadata": {},
     "output_type": "execute_result"
    }
   ],
   "source": [
    "texas_colleges_sorted=texas_colleges.sort_values('cases', ascending=False).reset_index(drop=True)\n",
    "texas_colleges_top_10 = texas_colleges_sorted.loc[[9,8,7,6,5,4,3,2,1,0]]\n",
    "texas_colleges_top_10"
   ]
  },
  {
   "cell_type": "code",
   "execution_count": 51,
   "metadata": {},
   "outputs": [
    {
     "data": {
      "text/plain": [
       "Text(0, 0.5, 'College')"
      ]
     },
     "execution_count": 51,
     "metadata": {},
     "output_type": "execute_result"
    },
    {
     "data": {
      "image/png": "[encoded data removed]",
      "text/plain": [
       "<Figure size 576x576 with 1 Axes>"
      ]
     },
     "metadata": {
      "needs_background": "light"
     },
     "output_type": "display_data"
    }
   ],
   "source": [
    "plt.figure(figsize=(8,8))\n",
    "###covid_c_by_college_top_10.plot(kind=\"bar\")\n",
    "plt.barh(texas_colleges_top_10['college'],texas_colleges_top_10['cases'], color = 'purple')\n",
    "plt.xticks(rotation=45)\n",
    "plt.title('TEXAS: Top 10 Colleges with Max No of COVID cases')\n",
    "plt.xlabel('No of Cases')\n",
    "plt.ylabel('College')"
   ]
  },
  {
   "cell_type": "markdown",
   "metadata": {},
   "source": [
    "### #2. FLORIDA"
   ]
  },
  {
   "cell_type": "code",
   "execution_count": 52,
   "metadata": {},
   "outputs": [
    {
     "data": {
      "text/html": [
       "<div>\n",
       "<style scoped>\n",
       "    .dataframe tbody tr th:only-of-type {\n",
       "        vertical-align: middle;\n",
       "    }\n",
       "\n",
       "    .dataframe tbody tr th {\n",
       "        vertical-align: top;\n",
       "    }\n",
       "\n",
       "    .dataframe thead th {\n",
       "        text-align: right;\n",
       "    }\n",
       "</style>\n",
       "<table border=\"1\" class=\"dataframe\">\n",
       "  <thead>\n",
       "    <tr style=\"text-align: right;\">\n",
       "      <th></th>\n",
       "      <th>date</th>\n",
       "      <th>state</th>\n",
       "      <th>county</th>\n",
       "      <th>city</th>\n",
       "      <th>ipeds_id</th>\n",
       "      <th>college</th>\n",
       "      <th>cases</th>\n",
       "    </tr>\n",
       "  </thead>\n",
       "  <tbody>\n",
       "    <tr>\n",
       "      <th>9</th>\n",
       "      <td>2020-11-05</td>\n",
       "      <td>Florida</td>\n",
       "      <td>Volusia</td>\n",
       "      <td>DeLand</td>\n",
       "      <td>137546</td>\n",
       "      <td>Stetson University</td>\n",
       "      <td>149.0</td>\n",
       "    </tr>\n",
       "    <tr>\n",
       "      <th>8</th>\n",
       "      <td>2020-11-05</td>\n",
       "      <td>Florida</td>\n",
       "      <td>Duval</td>\n",
       "      <td>Jacksonville</td>\n",
       "      <td>136172</td>\n",
       "      <td>University of North Florida</td>\n",
       "      <td>227.0</td>\n",
       "    </tr>\n",
       "    <tr>\n",
       "      <th>7</th>\n",
       "      <td>2020-11-05</td>\n",
       "      <td>Florida</td>\n",
       "      <td>Palm Beach</td>\n",
       "      <td>Boca Raton</td>\n",
       "      <td>133669</td>\n",
       "      <td>Florida Atlantic University</td>\n",
       "      <td>310.0</td>\n",
       "    </tr>\n",
       "    <tr>\n",
       "      <th>6</th>\n",
       "      <td>2020-11-05</td>\n",
       "      <td>Florida</td>\n",
       "      <td>Lee</td>\n",
       "      <td>Fort Myers</td>\n",
       "      <td>433660</td>\n",
       "      <td>Florida Gulf Coast University</td>\n",
       "      <td>380.0</td>\n",
       "    </tr>\n",
       "    <tr>\n",
       "      <th>5</th>\n",
       "      <td>2020-11-05</td>\n",
       "      <td>Florida</td>\n",
       "      <td>Hillsborough</td>\n",
       "      <td>Tampa</td>\n",
       "      <td>137847</td>\n",
       "      <td>University of Tampa</td>\n",
       "      <td>704.0</td>\n",
       "    </tr>\n",
       "    <tr>\n",
       "      <th>4</th>\n",
       "      <td>2020-11-05</td>\n",
       "      <td>Florida</td>\n",
       "      <td>Miami-Dade</td>\n",
       "      <td>Miami</td>\n",
       "      <td>135726</td>\n",
       "      <td>University of Miami</td>\n",
       "      <td>746.0</td>\n",
       "    </tr>\n",
       "    <tr>\n",
       "      <th>3</th>\n",
       "      <td>2020-11-05</td>\n",
       "      <td>Florida</td>\n",
       "      <td>Hillsborough</td>\n",
       "      <td>Tampa</td>\n",
       "      <td>137351</td>\n",
       "      <td>University of South Florida</td>\n",
       "      <td>770.0</td>\n",
       "    </tr>\n",
       "    <tr>\n",
       "      <th>2</th>\n",
       "      <td>2020-11-05</td>\n",
       "      <td>Florida</td>\n",
       "      <td>Leon</td>\n",
       "      <td>Tallahassee</td>\n",
       "      <td>134097</td>\n",
       "      <td>Florida State University</td>\n",
       "      <td>1738.0</td>\n",
       "    </tr>\n",
       "    <tr>\n",
       "      <th>1</th>\n",
       "      <td>2020-11-05</td>\n",
       "      <td>Florida</td>\n",
       "      <td>Orange</td>\n",
       "      <td>Orlando</td>\n",
       "      <td>132903</td>\n",
       "      <td>University of Central Florida</td>\n",
       "      <td>1834.0</td>\n",
       "    </tr>\n",
       "    <tr>\n",
       "      <th>0</th>\n",
       "      <td>2020-11-05</td>\n",
       "      <td>Florida</td>\n",
       "      <td>Alachua</td>\n",
       "      <td>Gainesville</td>\n",
       "      <td>134130</td>\n",
       "      <td>University of Florida</td>\n",
       "      <td>4461.0</td>\n",
       "    </tr>\n",
       "  </tbody>\n",
       "</table>\n",
       "</div>"
      ],
      "text/plain": [
       "         date    state        county          city ipeds_id  \\\n",
       "9  2020-11-05  Florida       Volusia        DeLand   137546   \n",
       "8  2020-11-05  Florida         Duval  Jacksonville   136172   \n",
       "7  2020-11-05  Florida    Palm Beach    Boca Raton   133669   \n",
       "6  2020-11-05  Florida           Lee    Fort Myers   433660   \n",
       "5  2020-11-05  Florida  Hillsborough         Tampa   137847   \n",
       "4  2020-11-05  Florida    Miami-Dade         Miami   135726   \n",
       "3  2020-11-05  Florida  Hillsborough         Tampa   137351   \n",
       "2  2020-11-05  Florida          Leon   Tallahassee   134097   \n",
       "1  2020-11-05  Florida        Orange       Orlando   132903   \n",
       "0  2020-11-05  Florida       Alachua   Gainesville   134130   \n",
       "\n",
       "                         college   cases  \n",
       "9             Stetson University   149.0  \n",
       "8    University of North Florida   227.0  \n",
       "7    Florida Atlantic University   310.0  \n",
       "6  Florida Gulf Coast University   380.0  \n",
       "5            University of Tampa   704.0  \n",
       "4            University of Miami   746.0  \n",
       "3    University of South Florida   770.0  \n",
       "2       Florida State University  1738.0  \n",
       "1  University of Central Florida  1834.0  \n",
       "0          University of Florida  4461.0  "
      ]
     },
     "execution_count": 52,
     "metadata": {},
     "output_type": "execute_result"
    }
   ],
   "source": [
    "fl_colleges = colleges_df_dropped_nan[(colleges_df_dropped_nan['state'] == 'Florida')].reset_index(drop=True)\n",
    "fl_colleges_sorted=fl_colleges.sort_values('cases', ascending=False).reset_index(drop=True)\n",
    "fl_colleges_top_10 = fl_colleges_sorted.loc[[9,8,7,6,5,4,3,2,1,0]]\n",
    "fl_colleges_top_10"
   ]
  },
  {
   "cell_type": "code",
   "execution_count": 53,
   "metadata": {},
   "outputs": [
    {
     "data": {
      "text/plain": [
       "Text(0, 0.5, 'College')"
      ]
     },
     "execution_count": 53,
     "metadata": {},
     "output_type": "execute_result"
    },
    {
     "data": {
      "image/png": "[encoded data removed]",
      "text/plain": [
       "<Figure size 576x576 with 1 Axes>"
      ]
     },
     "metadata": {
      "needs_background": "light"
     },
     "output_type": "display_data"
    }
   ],
   "source": [
    "plt.figure(figsize=(8,8))\n",
    "###covid_c_by_college_top_10.plot(kind=\"bar\")\n",
    "plt.barh(fl_colleges_top_10['college'],fl_colleges_top_10['cases'], color = 'purple')\n",
    "plt.xticks(rotation=45)\n",
    "plt.title('FLORIDA: Top 10 Colleges with Max No of COVID cases')\n",
    "plt.xlabel('No of Cases')\n",
    "plt.ylabel('College')"
   ]
  },
  {
   "cell_type": "markdown",
   "metadata": {},
   "source": [
    "### #3. OHIO"
   ]
  },
  {
   "cell_type": "code",
   "execution_count": 54,
   "metadata": {},
   "outputs": [
    {
     "data": {
      "text/html": [
       "<div>\n",
       "<style scoped>\n",
       "    .dataframe tbody tr th:only-of-type {\n",
       "        vertical-align: middle;\n",
       "    }\n",
       "\n",
       "    .dataframe tbody tr th {\n",
       "        vertical-align: top;\n",
       "    }\n",
       "\n",
       "    .dataframe thead th {\n",
       "        text-align: right;\n",
       "    }\n",
       "</style>\n",
       "<table border=\"1\" class=\"dataframe\">\n",
       "  <thead>\n",
       "    <tr style=\"text-align: right;\">\n",
       "      <th></th>\n",
       "      <th>date</th>\n",
       "      <th>state</th>\n",
       "      <th>county</th>\n",
       "      <th>city</th>\n",
       "      <th>ipeds_id</th>\n",
       "      <th>college</th>\n",
       "      <th>cases</th>\n",
       "    </tr>\n",
       "  </thead>\n",
       "  <tbody>\n",
       "    <tr>\n",
       "      <th>9</th>\n",
       "      <td>2020-11-05</td>\n",
       "      <td>Ohio</td>\n",
       "      <td>Delaware</td>\n",
       "      <td>Delaware</td>\n",
       "      <td>204909</td>\n",
       "      <td>Ohio Wesleyan University</td>\n",
       "      <td>125.0</td>\n",
       "    </tr>\n",
       "    <tr>\n",
       "      <th>8</th>\n",
       "      <td>2020-11-05</td>\n",
       "      <td>Ohio</td>\n",
       "      <td>Clark</td>\n",
       "      <td>Springfield</td>\n",
       "      <td>206525</td>\n",
       "      <td>Wittenberg University</td>\n",
       "      <td>186.0</td>\n",
       "    </tr>\n",
       "    <tr>\n",
       "      <th>7</th>\n",
       "      <td>2020-11-05</td>\n",
       "      <td>Ohio</td>\n",
       "      <td>Portage</td>\n",
       "      <td>Kent</td>\n",
       "      <td>203517</td>\n",
       "      <td>Kent State University</td>\n",
       "      <td>404.0</td>\n",
       "    </tr>\n",
       "    <tr>\n",
       "      <th>6</th>\n",
       "      <td>2020-11-05</td>\n",
       "      <td>Ohio</td>\n",
       "      <td>Lucas</td>\n",
       "      <td>Toledo</td>\n",
       "      <td>206084</td>\n",
       "      <td>University of Toledo</td>\n",
       "      <td>421.0</td>\n",
       "    </tr>\n",
       "    <tr>\n",
       "      <th>5</th>\n",
       "      <td>2020-11-05</td>\n",
       "      <td>Ohio</td>\n",
       "      <td>Wood</td>\n",
       "      <td>Bowling Green</td>\n",
       "      <td>201441</td>\n",
       "      <td>Bowling Green State University</td>\n",
       "      <td>555.0</td>\n",
       "    </tr>\n",
       "    <tr>\n",
       "      <th>4</th>\n",
       "      <td>2020-11-05</td>\n",
       "      <td>Ohio</td>\n",
       "      <td>Athens</td>\n",
       "      <td>Athens</td>\n",
       "      <td>204857</td>\n",
       "      <td>Ohio University</td>\n",
       "      <td>604.0</td>\n",
       "    </tr>\n",
       "    <tr>\n",
       "      <th>3</th>\n",
       "      <td>2020-11-05</td>\n",
       "      <td>Ohio</td>\n",
       "      <td>Hamilton</td>\n",
       "      <td>Cincinnati</td>\n",
       "      <td>201885</td>\n",
       "      <td>University of Cincinnati</td>\n",
       "      <td>854.0</td>\n",
       "    </tr>\n",
       "    <tr>\n",
       "      <th>2</th>\n",
       "      <td>2020-11-05</td>\n",
       "      <td>Ohio</td>\n",
       "      <td>Montgomery</td>\n",
       "      <td>Dayton</td>\n",
       "      <td>202480</td>\n",
       "      <td>University of Dayton</td>\n",
       "      <td>1455.0</td>\n",
       "    </tr>\n",
       "    <tr>\n",
       "      <th>1</th>\n",
       "      <td>2020-11-05</td>\n",
       "      <td>Ohio</td>\n",
       "      <td>Butler</td>\n",
       "      <td>Oxford</td>\n",
       "      <td>204024</td>\n",
       "      <td>Miami University (Ohio)</td>\n",
       "      <td>2248.0</td>\n",
       "    </tr>\n",
       "    <tr>\n",
       "      <th>0</th>\n",
       "      <td>2020-11-05</td>\n",
       "      <td>Ohio</td>\n",
       "      <td>Franklin</td>\n",
       "      <td>Columbus</td>\n",
       "      <td>204796</td>\n",
       "      <td>Ohio State University</td>\n",
       "      <td>3711.0</td>\n",
       "    </tr>\n",
       "  </tbody>\n",
       "</table>\n",
       "</div>"
      ],
      "text/plain": [
       "         date state      county           city ipeds_id  \\\n",
       "9  2020-11-05  Ohio    Delaware       Delaware   204909   \n",
       "8  2020-11-05  Ohio       Clark    Springfield   206525   \n",
       "7  2020-11-05  Ohio     Portage           Kent   203517   \n",
       "6  2020-11-05  Ohio       Lucas         Toledo   206084   \n",
       "5  2020-11-05  Ohio        Wood  Bowling Green   201441   \n",
       "4  2020-11-05  Ohio      Athens         Athens   204857   \n",
       "3  2020-11-05  Ohio    Hamilton     Cincinnati   201885   \n",
       "2  2020-11-05  Ohio  Montgomery         Dayton   202480   \n",
       "1  2020-11-05  Ohio      Butler         Oxford   204024   \n",
       "0  2020-11-05  Ohio    Franklin       Columbus   204796   \n",
       "\n",
       "                          college   cases  \n",
       "9        Ohio Wesleyan University   125.0  \n",
       "8           Wittenberg University   186.0  \n",
       "7           Kent State University   404.0  \n",
       "6            University of Toledo   421.0  \n",
       "5  Bowling Green State University   555.0  \n",
       "4                 Ohio University   604.0  \n",
       "3        University of Cincinnati   854.0  \n",
       "2            University of Dayton  1455.0  \n",
       "1         Miami University (Ohio)  2248.0  \n",
       "0           Ohio State University  3711.0  "
      ]
     },
     "execution_count": 54,
     "metadata": {},
     "output_type": "execute_result"
    }
   ],
   "source": [
    "oh_colleges = colleges_df_dropped_nan[(colleges_df_dropped_nan['state'] == 'Ohio')].reset_index(drop=True)\n",
    "oh_colleges_sorted=oh_colleges.sort_values('cases', ascending=False).reset_index(drop=True)\n",
    "oh_colleges_top_10 = oh_colleges_sorted.loc[[9,8,7,6,5,4,3,2,1,0]]\n",
    "oh_colleges_top_10"
   ]
  },
  {
   "cell_type": "code",
   "execution_count": 55,
   "metadata": {},
   "outputs": [
    {
     "data": {
      "text/plain": [
       "Text(0, 0.5, 'College')"
      ]
     },
     "execution_count": 55,
     "metadata": {},
     "output_type": "execute_result"
    },
    {
     "data": {
      "image/png": "[encoded data removed]",
      "text/plain": [
       "<Figure size 576x576 with 1 Axes>"
      ]
     },
     "metadata": {
      "needs_background": "light"
     },
     "output_type": "display_data"
    }
   ],
   "source": [
    "plt.figure(figsize=(8,8))\n",
    "###covid_c_by_college_top_10.plot(kind=\"bar\")\n",
    "plt.barh(oh_colleges_top_10['college'],oh_colleges_top_10['cases'], color = 'purple')\n",
    "plt.xticks(rotation=45)\n",
    "plt.title('OHIO: Top 10 Colleges with Max No of COVID cases')\n",
    "plt.xlabel('No of Cases')\n",
    "plt.ylabel('College')"
   ]
  },
  {
   "cell_type": "markdown",
   "metadata": {},
   "source": [
    "### #4.GEORGIA"
   ]
  },
  {
   "cell_type": "code",
   "execution_count": 56,
   "metadata": {},
   "outputs": [
    {
     "data": {
      "text/html": [
       "<div>\n",
       "<style scoped>\n",
       "    .dataframe tbody tr th:only-of-type {\n",
       "        vertical-align: middle;\n",
       "    }\n",
       "\n",
       "    .dataframe tbody tr th {\n",
       "        vertical-align: top;\n",
       "    }\n",
       "\n",
       "    .dataframe thead th {\n",
       "        text-align: right;\n",
       "    }\n",
       "</style>\n",
       "<table border=\"1\" class=\"dataframe\">\n",
       "  <thead>\n",
       "    <tr style=\"text-align: right;\">\n",
       "      <th></th>\n",
       "      <th>date</th>\n",
       "      <th>state</th>\n",
       "      <th>county</th>\n",
       "      <th>city</th>\n",
       "      <th>ipeds_id</th>\n",
       "      <th>college</th>\n",
       "      <th>cases</th>\n",
       "    </tr>\n",
       "  </thead>\n",
       "  <tbody>\n",
       "    <tr>\n",
       "      <th>9</th>\n",
       "      <td>2020-11-05</td>\n",
       "      <td>Georgia</td>\n",
       "      <td>Fulton</td>\n",
       "      <td>Atlanta</td>\n",
       "      <td>139658</td>\n",
       "      <td>Emory University</td>\n",
       "      <td>234.0</td>\n",
       "    </tr>\n",
       "    <tr>\n",
       "      <th>8</th>\n",
       "      <td>2020-11-05</td>\n",
       "      <td>Georgia</td>\n",
       "      <td>Fulton</td>\n",
       "      <td>Atlanta</td>\n",
       "      <td>139940</td>\n",
       "      <td>Georgia State University</td>\n",
       "      <td>278.0</td>\n",
       "    </tr>\n",
       "    <tr>\n",
       "      <th>7</th>\n",
       "      <td>2020-11-05</td>\n",
       "      <td>Georgia</td>\n",
       "      <td>Richmond</td>\n",
       "      <td>Augusta</td>\n",
       "      <td>482149</td>\n",
       "      <td>Augusta University</td>\n",
       "      <td>278.0</td>\n",
       "    </tr>\n",
       "    <tr>\n",
       "      <th>6</th>\n",
       "      <td>2020-11-05</td>\n",
       "      <td>Georgia</td>\n",
       "      <td>Bibb</td>\n",
       "      <td>Macon</td>\n",
       "      <td>140447</td>\n",
       "      <td>Mercer University</td>\n",
       "      <td>303.0</td>\n",
       "    </tr>\n",
       "    <tr>\n",
       "      <th>5</th>\n",
       "      <td>2020-11-05</td>\n",
       "      <td>Georgia</td>\n",
       "      <td>Lumpkin</td>\n",
       "      <td>Dahlonega</td>\n",
       "      <td>482680</td>\n",
       "      <td>University of North Georgia</td>\n",
       "      <td>464.0</td>\n",
       "    </tr>\n",
       "    <tr>\n",
       "      <th>4</th>\n",
       "      <td>2020-11-05</td>\n",
       "      <td>Georgia</td>\n",
       "      <td>Cobb</td>\n",
       "      <td>Kennesaw</td>\n",
       "      <td>486840</td>\n",
       "      <td>Kennesaw State University</td>\n",
       "      <td>572.0</td>\n",
       "    </tr>\n",
       "    <tr>\n",
       "      <th>3</th>\n",
       "      <td>2020-11-05</td>\n",
       "      <td>Georgia</td>\n",
       "      <td>Baldwin</td>\n",
       "      <td>Milledgeville</td>\n",
       "      <td>139861</td>\n",
       "      <td>Georgia College &amp; State University</td>\n",
       "      <td>747.0</td>\n",
       "    </tr>\n",
       "    <tr>\n",
       "      <th>2</th>\n",
       "      <td>2020-11-05</td>\n",
       "      <td>Georgia</td>\n",
       "      <td>Fulton</td>\n",
       "      <td>Atlanta</td>\n",
       "      <td>139755</td>\n",
       "      <td>Georgia Institute of Technology</td>\n",
       "      <td>1102.0</td>\n",
       "    </tr>\n",
       "    <tr>\n",
       "      <th>1</th>\n",
       "      <td>2020-11-05</td>\n",
       "      <td>Georgia</td>\n",
       "      <td>Bulloch</td>\n",
       "      <td>Statesboro</td>\n",
       "      <td>139931</td>\n",
       "      <td>Georgia Southern University</td>\n",
       "      <td>1243.0</td>\n",
       "    </tr>\n",
       "    <tr>\n",
       "      <th>0</th>\n",
       "      <td>2020-11-05</td>\n",
       "      <td>Georgia</td>\n",
       "      <td>Clarke</td>\n",
       "      <td>Athens</td>\n",
       "      <td>139959</td>\n",
       "      <td>University of Georgia</td>\n",
       "      <td>4198.0</td>\n",
       "    </tr>\n",
       "  </tbody>\n",
       "</table>\n",
       "</div>"
      ],
      "text/plain": [
       "         date    state    county           city ipeds_id  \\\n",
       "9  2020-11-05  Georgia    Fulton        Atlanta   139658   \n",
       "8  2020-11-05  Georgia    Fulton        Atlanta   139940   \n",
       "7  2020-11-05  Georgia  Richmond        Augusta   482149   \n",
       "6  2020-11-05  Georgia      Bibb          Macon   140447   \n",
       "5  2020-11-05  Georgia   Lumpkin      Dahlonega   482680   \n",
       "4  2020-11-05  Georgia      Cobb       Kennesaw   486840   \n",
       "3  2020-11-05  Georgia   Baldwin  Milledgeville   139861   \n",
       "2  2020-11-05  Georgia    Fulton        Atlanta   139755   \n",
       "1  2020-11-05  Georgia   Bulloch     Statesboro   139931   \n",
       "0  2020-11-05  Georgia    Clarke         Athens   139959   \n",
       "\n",
       "                              college   cases  \n",
       "9                    Emory University   234.0  \n",
       "8            Georgia State University   278.0  \n",
       "7                  Augusta University   278.0  \n",
       "6                   Mercer University   303.0  \n",
       "5         University of North Georgia   464.0  \n",
       "4           Kennesaw State University   572.0  \n",
       "3  Georgia College & State University   747.0  \n",
       "2     Georgia Institute of Technology  1102.0  \n",
       "1         Georgia Southern University  1243.0  \n",
       "0               University of Georgia  4198.0  "
      ]
     },
     "execution_count": 56,
     "metadata": {},
     "output_type": "execute_result"
    }
   ],
   "source": [
    "ga_colleges = colleges_df_dropped_nan[(colleges_df_dropped_nan['state'] == 'Georgia')].reset_index(drop=True)\n",
    "ga_colleges_sorted=ga_colleges.sort_values('cases', ascending=False).reset_index(drop=True)\n",
    "ga_colleges_top_10 = ga_colleges_sorted.loc[[9,8,7,6,5,4,3,2,1,0]]\n",
    "ga_colleges_top_10"
   ]
  },
  {
   "cell_type": "code",
   "execution_count": 57,
   "metadata": {},
   "outputs": [
    {
     "data": {
      "text/plain": [
       "Text(0, 0.5, 'College')"
      ]
     },
     "execution_count": 57,
     "metadata": {},
     "output_type": "execute_result"
    },
    {
     "data": {
      "image/png": "[encoded data removed]",
      "text/plain": [
       "<Figure size 576x576 with 1 Axes>"
      ]
     },
     "metadata": {
      "needs_background": "light"
     },
     "output_type": "display_data"
    }
   ],
   "source": [
    "plt.figure(figsize=(8,8))\n",
    "###covid_c_by_college_top_10.plot(kind=\"bar\")\n",
    "plt.barh(ga_colleges_top_10['college'],oh_colleges_top_10['cases'], color = 'purple')\n",
    "plt.xticks(rotation=45)\n",
    "plt.title('GEORGIA: Top 10 Colleges with Max No of COVID cases')\n",
    "plt.xlabel('No of Cases')\n",
    "plt.ylabel('College')"
   ]
  },
  {
   "cell_type": "markdown",
   "metadata": {},
   "source": [
    "### #5. PENNSYLVANIA"
   ]
  },
  {
   "cell_type": "code",
   "execution_count": 58,
   "metadata": {},
   "outputs": [
    {
     "data": {
      "text/html": [
       "<div>\n",
       "<style scoped>\n",
       "    .dataframe tbody tr th:only-of-type {\n",
       "        vertical-align: middle;\n",
       "    }\n",
       "\n",
       "    .dataframe tbody tr th {\n",
       "        vertical-align: top;\n",
       "    }\n",
       "\n",
       "    .dataframe thead th {\n",
       "        text-align: right;\n",
       "    }\n",
       "</style>\n",
       "<table border=\"1\" class=\"dataframe\">\n",
       "  <thead>\n",
       "    <tr style=\"text-align: right;\">\n",
       "      <th></th>\n",
       "      <th>date</th>\n",
       "      <th>state</th>\n",
       "      <th>county</th>\n",
       "      <th>city</th>\n",
       "      <th>ipeds_id</th>\n",
       "      <th>college</th>\n",
       "      <th>cases</th>\n",
       "    </tr>\n",
       "  </thead>\n",
       "  <tbody>\n",
       "    <tr>\n",
       "      <th>9</th>\n",
       "      <td>2020-11-05</td>\n",
       "      <td>Pennsylvania</td>\n",
       "      <td>Northampton</td>\n",
       "      <td>Bethlehem</td>\n",
       "      <td>213543</td>\n",
       "      <td>Lehigh University</td>\n",
       "      <td>262.0</td>\n",
       "    </tr>\n",
       "    <tr>\n",
       "      <th>8</th>\n",
       "      <td>2020-11-05</td>\n",
       "      <td>Pennsylvania</td>\n",
       "      <td>Philadelphia</td>\n",
       "      <td>Philadelphia</td>\n",
       "      <td>215770</td>\n",
       "      <td>Saint Joseph's University</td>\n",
       "      <td>278.0</td>\n",
       "    </tr>\n",
       "    <tr>\n",
       "      <th>7</th>\n",
       "      <td>2020-11-05</td>\n",
       "      <td>Pennsylvania</td>\n",
       "      <td>Indiana</td>\n",
       "      <td>Indiana</td>\n",
       "      <td>213020</td>\n",
       "      <td>Indiana University of Pennsylvania</td>\n",
       "      <td>312.0</td>\n",
       "    </tr>\n",
       "    <tr>\n",
       "      <th>6</th>\n",
       "      <td>2020-11-05</td>\n",
       "      <td>Pennsylvania</td>\n",
       "      <td>Berks</td>\n",
       "      <td>Kutztown</td>\n",
       "      <td>213349</td>\n",
       "      <td>Kutztown University</td>\n",
       "      <td>346.0</td>\n",
       "    </tr>\n",
       "    <tr>\n",
       "      <th>5</th>\n",
       "      <td>2020-11-05</td>\n",
       "      <td>Pennsylvania</td>\n",
       "      <td>Columbia</td>\n",
       "      <td>Bloomsburg</td>\n",
       "      <td>211158</td>\n",
       "      <td>Bloomsburg University of Pennsylvania</td>\n",
       "      <td>369.0</td>\n",
       "    </tr>\n",
       "    <tr>\n",
       "      <th>4</th>\n",
       "      <td>2020-11-05</td>\n",
       "      <td>Pennsylvania</td>\n",
       "      <td>Allegheny</td>\n",
       "      <td>Pittsburgh</td>\n",
       "      <td>215293</td>\n",
       "      <td>University of Pittsburgh</td>\n",
       "      <td>398.0</td>\n",
       "    </tr>\n",
       "    <tr>\n",
       "      <th>3</th>\n",
       "      <td>2020-11-05</td>\n",
       "      <td>Pennsylvania</td>\n",
       "      <td>Lackawanna</td>\n",
       "      <td>Scranton</td>\n",
       "      <td>215929</td>\n",
       "      <td>University of Scranton</td>\n",
       "      <td>620.0</td>\n",
       "    </tr>\n",
       "    <tr>\n",
       "      <th>2</th>\n",
       "      <td>2020-11-05</td>\n",
       "      <td>Pennsylvania</td>\n",
       "      <td>Philadelphia</td>\n",
       "      <td>Philadelphia</td>\n",
       "      <td>215062</td>\n",
       "      <td>University of Pennsylvania</td>\n",
       "      <td>660.0</td>\n",
       "    </tr>\n",
       "    <tr>\n",
       "      <th>1</th>\n",
       "      <td>2020-11-05</td>\n",
       "      <td>Pennsylvania</td>\n",
       "      <td>Philadelphia</td>\n",
       "      <td>Philadelphia</td>\n",
       "      <td>216339</td>\n",
       "      <td>Temple University</td>\n",
       "      <td>711.0</td>\n",
       "    </tr>\n",
       "    <tr>\n",
       "      <th>0</th>\n",
       "      <td>2020-11-05</td>\n",
       "      <td>Pennsylvania</td>\n",
       "      <td>Centre</td>\n",
       "      <td>State College</td>\n",
       "      <td>214777</td>\n",
       "      <td>Penn State University</td>\n",
       "      <td>3883.0</td>\n",
       "    </tr>\n",
       "  </tbody>\n",
       "</table>\n",
       "</div>"
      ],
      "text/plain": [
       "         date         state        county           city ipeds_id  \\\n",
       "9  2020-11-05  Pennsylvania   Northampton      Bethlehem   213543   \n",
       "8  2020-11-05  Pennsylvania  Philadelphia   Philadelphia   215770   \n",
       "7  2020-11-05  Pennsylvania       Indiana        Indiana   213020   \n",
       "6  2020-11-05  Pennsylvania         Berks       Kutztown   213349   \n",
       "5  2020-11-05  Pennsylvania      Columbia     Bloomsburg   211158   \n",
       "4  2020-11-05  Pennsylvania     Allegheny     Pittsburgh   215293   \n",
       "3  2020-11-05  Pennsylvania    Lackawanna       Scranton   215929   \n",
       "2  2020-11-05  Pennsylvania  Philadelphia   Philadelphia   215062   \n",
       "1  2020-11-05  Pennsylvania  Philadelphia   Philadelphia   216339   \n",
       "0  2020-11-05  Pennsylvania        Centre  State College   214777   \n",
       "\n",
       "                                 college   cases  \n",
       "9                      Lehigh University   262.0  \n",
       "8              Saint Joseph's University   278.0  \n",
       "7     Indiana University of Pennsylvania   312.0  \n",
       "6                    Kutztown University   346.0  \n",
       "5  Bloomsburg University of Pennsylvania   369.0  \n",
       "4               University of Pittsburgh   398.0  \n",
       "3                 University of Scranton   620.0  \n",
       "2             University of Pennsylvania   660.0  \n",
       "1                      Temple University   711.0  \n",
       "0                  Penn State University  3883.0  "
      ]
     },
     "execution_count": 58,
     "metadata": {},
     "output_type": "execute_result"
    }
   ],
   "source": [
    "pa_colleges = colleges_df_dropped_nan[(colleges_df_dropped_nan['state'] == 'Pennsylvania')].reset_index(drop=True)\n",
    "pa_colleges_sorted=pa_colleges.sort_values('cases', ascending=False).reset_index(drop=True)\n",
    "pa_colleges_top_10 = pa_colleges_sorted.loc[[9,8,7,6,5,4,3,2,1,0]]\n",
    "pa_colleges_top_10"
   ]
  },
  {
   "cell_type": "code",
   "execution_count": 59,
   "metadata": {},
   "outputs": [
    {
     "data": {
      "text/plain": [
       "Text(0, 0.5, 'College')"
      ]
     },
     "execution_count": 59,
     "metadata": {},
     "output_type": "execute_result"
    },
    {
     "data": {
      "image/png": "[encoded data removed]",
      "text/plain": [
       "<Figure size 576x576 with 1 Axes>"
      ]
     },
     "metadata": {
      "needs_background": "light"
     },
     "output_type": "display_data"
    }
   ],
   "source": [
    "plt.figure(figsize=(8,8))\n",
    "###covid_c_by_college_top_10.plot(kind=\"bar\")\n",
    "plt.barh(pa_colleges_top_10['college'],pa_colleges_top_10['cases'], color = 'purple')\n",
    "plt.xticks(rotation=45)\n",
    "plt.title('PENNSYLVANIA: Top 10 Colleges with Max No of COVID cases')\n",
    "plt.xlabel('No of Cases')\n",
    "plt.ylabel('College')"
   ]
  },
  {
   "cell_type": "code",
   "execution_count": null,
   "metadata": {},
   "outputs": [],
   "source": []
  }
 ],
 "metadata": {
  "kernelspec": {
   "display_name": "Python 3",
   "language": "python",
   "name": "python3"
  },
  "language_info": {
   "codemirror_mode": {
    "name": "ipython",
    "version": 3
   },
   "file_extension": ".py",
   "mimetype": "text/x-python",
   "name": "python",
   "nbconvert_exporter": "python",
   "pygments_lexer": "ipython3",
   "version": "3.7.6"
  }
 },
 "nbformat": 4,
 "nbformat_minor": 4
}
