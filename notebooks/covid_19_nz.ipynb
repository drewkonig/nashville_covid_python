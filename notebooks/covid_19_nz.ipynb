{
 "cells": [
  {
   "cell_type": "code",
   "execution_count": 1,
   "metadata": {},
   "outputs": [],
   "source": [
    "import pandas as pd\n",
    "from sqlalchemy import create_engine\n",
    "from functools import reduce\n",
    "from credentials import user\n",
    "from credentials import server\n",
    "from credentials import password\n",
    "import seaborn as sns\n",
    "import matplotlib as plt\n",
    "import numpy as np\n",
    "import matplotlib.ticker as ticker\n",
    "\n",
    "from credentials import user, password, server"
   ]
  },
  {
   "cell_type": "code",
   "execution_count": 2,
   "metadata": {},
   "outputs": [],
   "source": [
    "engine = create_engine(\"postgres+psycopg2://\"+user+\":\"+password+\"@\"+server+\"5432/covid_data\")"
   ]
  },
  {
   "cell_type": "code",
   "execution_count": 3,
   "metadata": {},
   "outputs": [],
   "source": [
    "service_requests_df = pd.read_csv('C:/Users/Natalia/Documents/NSS/class_projects/nashville-covid-quaranteam/data/hubNashville_311_Service_Requests.csv', low_memory=False)\n",
    "clusters_df = pd.read_csv('C:/Users/Natalia/Documents/NSS/class_projects/nashville-covid-quaranteam/data/clusters.csv', low_memory=False)\n",
    "businesses_df = pd.read_csv('C:/Users/Natalia/Documents/NSS/class_projects/nashville-covid-quaranteam/data/businesses.csv', low_memory=False)"
   ]
  },
  {
   "cell_type": "code",
   "execution_count": 4,
   "metadata": {},
   "outputs": [
    {
     "data": {
      "text/html": [
       "<div>\n",
       "<style scoped>\n",
       "    .dataframe tbody tr th:only-of-type {\n",
       "        vertical-align: middle;\n",
       "    }\n",
       "\n",
       "    .dataframe tbody tr th {\n",
       "        vertical-align: top;\n",
       "    }\n",
       "\n",
       "    .dataframe thead th {\n",
       "        text-align: right;\n",
       "    }\n",
       "</style>\n",
       "<table border=\"1\" class=\"dataframe\">\n",
       "  <thead>\n",
       "    <tr style=\"text-align: right;\">\n",
       "      <th></th>\n",
       "      <th>Request #</th>\n",
       "      <th>Status</th>\n",
       "      <th>Request Type</th>\n",
       "      <th>Subrequest Type</th>\n",
       "      <th>Additional Subrequest Type</th>\n",
       "      <th>Date / Time Opened</th>\n",
       "      <th>Date / Time Closed</th>\n",
       "      <th>Request Origin</th>\n",
       "      <th>System of Origin ID</th>\n",
       "      <th>Contact Type</th>\n",
       "      <th>...</th>\n",
       "      <th>State Issue</th>\n",
       "      <th>Parent Request</th>\n",
       "      <th>Closed When Created</th>\n",
       "      <th>Address</th>\n",
       "      <th>City</th>\n",
       "      <th>Council District</th>\n",
       "      <th>ZIP</th>\n",
       "      <th>Latitude</th>\n",
       "      <th>Longitude</th>\n",
       "      <th>Mapped Location</th>\n",
       "    </tr>\n",
       "  </thead>\n",
       "  <tbody>\n",
       "    <tr>\n",
       "      <th>0</th>\n",
       "      <td>113016</td>\n",
       "      <td>Closed</td>\n",
       "      <td>Trash, Recycling &amp; Litter</td>\n",
       "      <td>Cart Service</td>\n",
       "      <td>Trash - Request an Additional Cart</td>\n",
       "      <td>10/30/2018 01:47:00 PM</td>\n",
       "      <td>03/05/2019 09:35:00 PM</td>\n",
       "      <td>Phone</td>\n",
       "      <td>NaN</td>\n",
       "      <td>NaN</td>\n",
       "      <td>...</td>\n",
       "      <td>False</td>\n",
       "      <td>NaN</td>\n",
       "      <td>False</td>\n",
       "      <td>2009 Upland Dr</td>\n",
       "      <td>NASHVILLE</td>\n",
       "      <td>7.0</td>\n",
       "      <td>37216</td>\n",
       "      <td>36.198638</td>\n",
       "      <td>-86.706659</td>\n",
       "      <td>(36.1986378, -86.7066586)</td>\n",
       "    </tr>\n",
       "    <tr>\n",
       "      <th>1</th>\n",
       "      <td>53502</td>\n",
       "      <td>Closed</td>\n",
       "      <td>Property Violations</td>\n",
       "      <td>Residential Complaint</td>\n",
       "      <td>Residential Complaint</td>\n",
       "      <td>03/13/2018 09:34:50 PM</td>\n",
       "      <td>04/06/2018 01:13:32 PM</td>\n",
       "      <td>Phone</td>\n",
       "      <td>NaN</td>\n",
       "      <td>NaN</td>\n",
       "      <td>...</td>\n",
       "      <td>False</td>\n",
       "      <td>NaN</td>\n",
       "      <td>False</td>\n",
       "      <td>631 Murfreesboro Pike</td>\n",
       "      <td>NASHVILLE</td>\n",
       "      <td>17.0</td>\n",
       "      <td>37210</td>\n",
       "      <td>36.140070</td>\n",
       "      <td>-86.738360</td>\n",
       "      <td>(36.14007, -86.73836)</td>\n",
       "    </tr>\n",
       "  </tbody>\n",
       "</table>\n",
       "<p>2 rows × 21 columns</p>\n",
       "</div>"
      ],
      "text/plain": [
       "   Request #  Status               Request Type        Subrequest Type  \\\n",
       "0     113016  Closed  Trash, Recycling & Litter           Cart Service   \n",
       "1      53502  Closed        Property Violations  Residential Complaint   \n",
       "\n",
       "           Additional Subrequest Type      Date / Time Opened  \\\n",
       "0  Trash - Request an Additional Cart  10/30/2018 01:47:00 PM   \n",
       "1               Residential Complaint  03/13/2018 09:34:50 PM   \n",
       "\n",
       "       Date / Time Closed Request Origin System of Origin ID Contact Type  \\\n",
       "0  03/05/2019 09:35:00 PM          Phone                 NaN          NaN   \n",
       "1  04/06/2018 01:13:32 PM          Phone                 NaN          NaN   \n",
       "\n",
       "   ...  State Issue  Parent Request  Closed When Created  \\\n",
       "0  ...        False             NaN                False   \n",
       "1  ...        False             NaN                False   \n",
       "\n",
       "                 Address       City Council District    ZIP   Latitude  \\\n",
       "0         2009 Upland Dr  NASHVILLE              7.0  37216  36.198638   \n",
       "1  631 Murfreesboro Pike  NASHVILLE             17.0  37210  36.140070   \n",
       "\n",
       "   Longitude            Mapped Location  \n",
       "0 -86.706659  (36.1986378, -86.7066586)  \n",
       "1 -86.738360      (36.14007, -86.73836)  \n",
       "\n",
       "[2 rows x 21 columns]"
      ]
     },
     "execution_count": 4,
     "metadata": {},
     "output_type": "execute_result"
    }
   ],
   "source": [
    "service_requests_df.head(2)"
   ]
  },
  {
   "cell_type": "code",
   "execution_count": 5,
   "metadata": {},
   "outputs": [
    {
     "data": {
      "text/html": [
       "<div>\n",
       "<style scoped>\n",
       "    .dataframe tbody tr th:only-of-type {\n",
       "        vertical-align: middle;\n",
       "    }\n",
       "\n",
       "    .dataframe tbody tr th {\n",
       "        vertical-align: top;\n",
       "    }\n",
       "\n",
       "    .dataframe thead th {\n",
       "        text-align: right;\n",
       "    }\n",
       "</style>\n",
       "<table border=\"1\" class=\"dataframe\">\n",
       "  <thead>\n",
       "    <tr style=\"text-align: right;\">\n",
       "      <th></th>\n",
       "      <th>Cluster Name</th>\n",
       "      <th>Facility Type</th>\n",
       "      <th>Cluster Start Date</th>\n",
       "      <th># Cases</th>\n",
       "      <th>Latitude</th>\n",
       "      <th>Longitude</th>\n",
       "    </tr>\n",
       "  </thead>\n",
       "  <tbody>\n",
       "    <tr>\n",
       "      <th>0</th>\n",
       "      <td>Vanderbilt Parties</td>\n",
       "      <td>Social Gathering</td>\n",
       "      <td>3/11/2020</td>\n",
       "      <td>49</td>\n",
       "      <td>36.144703</td>\n",
       "      <td>-86.802655</td>\n",
       "    </tr>\n",
       "    <tr>\n",
       "      <th>1</th>\n",
       "      <td>Event at Clementine Hall</td>\n",
       "      <td>Social Gathering</td>\n",
       "      <td>3/14/2020</td>\n",
       "      <td>23</td>\n",
       "      <td>36.152444</td>\n",
       "      <td>-86.844583</td>\n",
       "    </tr>\n",
       "  </tbody>\n",
       "</table>\n",
       "</div>"
      ],
      "text/plain": [
       "               Cluster Name     Facility Type Cluster Start Date  # Cases  \\\n",
       "0        Vanderbilt Parties  Social Gathering          3/11/2020       49   \n",
       "1  Event at Clementine Hall  Social Gathering          3/14/2020       23   \n",
       "\n",
       "    Latitude  Longitude  \n",
       "0  36.144703 -86.802655  \n",
       "1  36.152444 -86.844583  "
      ]
     },
     "execution_count": 5,
     "metadata": {},
     "output_type": "execute_result"
    }
   ],
   "source": [
    "clusters_df.head(2)"
   ]
  },
  {
   "cell_type": "code",
   "execution_count": 6,
   "metadata": {},
   "outputs": [
    {
     "data": {
      "text/html": [
       "<div>\n",
       "<style scoped>\n",
       "    .dataframe tbody tr th:only-of-type {\n",
       "        vertical-align: middle;\n",
       "    }\n",
       "\n",
       "    .dataframe tbody tr th {\n",
       "        vertical-align: top;\n",
       "    }\n",
       "\n",
       "    .dataframe thead th {\n",
       "        text-align: right;\n",
       "    }\n",
       "</style>\n",
       "<table border=\"1\" class=\"dataframe\">\n",
       "  <thead>\n",
       "    <tr style=\"text-align: right;\">\n",
       "      <th></th>\n",
       "      <th>address</th>\n",
       "      <th>vicinity</th>\n",
       "      <th>name</th>\n",
       "      <th>type</th>\n",
       "    </tr>\n",
       "  </thead>\n",
       "  <tbody>\n",
       "    <tr>\n",
       "      <th>0</th>\n",
       "      <td>2440 COUCHVILLE PIKE, Nashville</td>\n",
       "      <td>2440 Couchville Pike, Nashville</td>\n",
       "      <td>Wilson Sporting Goods Co</td>\n",
       "      <td>['point_of_interest', 'establishment']</td>\n",
       "    </tr>\n",
       "    <tr>\n",
       "      <th>1</th>\n",
       "      <td>1613 Buchanan St, Nashville</td>\n",
       "      <td>1613 Buchanan Street, Nashville</td>\n",
       "      <td>Coin Cloud Bitcoin ATM</td>\n",
       "      <td>['atm', 'finance', 'point_of_interest', 'estab...</td>\n",
       "    </tr>\n",
       "  </tbody>\n",
       "</table>\n",
       "</div>"
      ],
      "text/plain": [
       "                           address                         vicinity  \\\n",
       "0  2440 COUCHVILLE PIKE, Nashville  2440 Couchville Pike, Nashville   \n",
       "1      1613 Buchanan St, Nashville  1613 Buchanan Street, Nashville   \n",
       "\n",
       "                       name                                               type  \n",
       "0  Wilson Sporting Goods Co             ['point_of_interest', 'establishment']  \n",
       "1    Coin Cloud Bitcoin ATM  ['atm', 'finance', 'point_of_interest', 'estab...  "
      ]
     },
     "execution_count": 6,
     "metadata": {},
     "output_type": "execute_result"
    }
   ],
   "source": [
    "businesses_df.head(2)"
   ]
  },
  {
   "cell_type": "code",
   "execution_count": 7,
   "metadata": {},
   "outputs": [
    {
     "data": {
      "text/html": [
       "<div>\n",
       "<style scoped>\n",
       "    .dataframe tbody tr th:only-of-type {\n",
       "        vertical-align: middle;\n",
       "    }\n",
       "\n",
       "    .dataframe tbody tr th {\n",
       "        vertical-align: top;\n",
       "    }\n",
       "\n",
       "    .dataframe thead th {\n",
       "        text-align: right;\n",
       "    }\n",
       "</style>\n",
       "<table border=\"1\" class=\"dataframe\">\n",
       "  <thead>\n",
       "    <tr style=\"text-align: right;\">\n",
       "      <th></th>\n",
       "      <th>Request Type</th>\n",
       "      <th>Subrequest Type</th>\n",
       "      <th>Additional Subrequest Type</th>\n",
       "      <th>Date / Time Opened</th>\n",
       "      <th>Address</th>\n",
       "      <th>City</th>\n",
       "      <th>ZIP</th>\n",
       "      <th>Latitude</th>\n",
       "      <th>Longitude</th>\n",
       "      <th>Mapped Location</th>\n",
       "    </tr>\n",
       "  </thead>\n",
       "  <tbody>\n",
       "    <tr>\n",
       "      <th>0</th>\n",
       "      <td>Trash, Recycling &amp; Litter</td>\n",
       "      <td>Cart Service</td>\n",
       "      <td>Trash - Request an Additional Cart</td>\n",
       "      <td>10/30/2018 01:47:00 PM</td>\n",
       "      <td>2009 Upland Dr</td>\n",
       "      <td>NASHVILLE</td>\n",
       "      <td>37216</td>\n",
       "      <td>36.198638</td>\n",
       "      <td>-86.706659</td>\n",
       "      <td>(36.1986378, -86.7066586)</td>\n",
       "    </tr>\n",
       "    <tr>\n",
       "      <th>1</th>\n",
       "      <td>Property Violations</td>\n",
       "      <td>Residential Complaint</td>\n",
       "      <td>Residential Complaint</td>\n",
       "      <td>03/13/2018 09:34:50 PM</td>\n",
       "      <td>631 Murfreesboro Pike</td>\n",
       "      <td>NASHVILLE</td>\n",
       "      <td>37210</td>\n",
       "      <td>36.140070</td>\n",
       "      <td>-86.738360</td>\n",
       "      <td>(36.14007, -86.73836)</td>\n",
       "    </tr>\n",
       "  </tbody>\n",
       "</table>\n",
       "</div>"
      ],
      "text/plain": [
       "                Request Type        Subrequest Type  \\\n",
       "0  Trash, Recycling & Litter           Cart Service   \n",
       "1        Property Violations  Residential Complaint   \n",
       "\n",
       "           Additional Subrequest Type      Date / Time Opened  \\\n",
       "0  Trash - Request an Additional Cart  10/30/2018 01:47:00 PM   \n",
       "1               Residential Complaint  03/13/2018 09:34:50 PM   \n",
       "\n",
       "                 Address       City    ZIP   Latitude  Longitude  \\\n",
       "0         2009 Upland Dr  NASHVILLE  37216  36.198638 -86.706659   \n",
       "1  631 Murfreesboro Pike  NASHVILLE  37210  36.140070 -86.738360   \n",
       "\n",
       "             Mapped Location  \n",
       "0  (36.1986378, -86.7066586)  \n",
       "1      (36.14007, -86.73836)  "
      ]
     },
     "execution_count": 7,
     "metadata": {},
     "output_type": "execute_result"
    }
   ],
   "source": [
    "service_requests_filtered = service_requests_df[['Request Type','Subrequest Type','Additional Subrequest Type','Date / Time Opened','Address', 'City','ZIP','Latitude','Longitude','Mapped Location']]\n",
    "service_requests_filtered.head(2)"
   ]
  },
  {
   "cell_type": "code",
   "execution_count": 8,
   "metadata": {},
   "outputs": [
    {
     "data": {
      "text/html": [
       "<div>\n",
       "<style scoped>\n",
       "    .dataframe tbody tr th:only-of-type {\n",
       "        vertical-align: middle;\n",
       "    }\n",
       "\n",
       "    .dataframe tbody tr th {\n",
       "        vertical-align: top;\n",
       "    }\n",
       "\n",
       "    .dataframe thead th {\n",
       "        text-align: right;\n",
       "    }\n",
       "</style>\n",
       "<table border=\"1\" class=\"dataframe\">\n",
       "  <thead>\n",
       "    <tr style=\"text-align: right;\">\n",
       "      <th></th>\n",
       "      <th>Request Type</th>\n",
       "      <th>Subrequest Type</th>\n",
       "      <th>Additional Subrequest Type</th>\n",
       "      <th>Date / Time Opened</th>\n",
       "      <th>Address</th>\n",
       "      <th>City</th>\n",
       "      <th>ZIP</th>\n",
       "      <th>Latitude</th>\n",
       "      <th>Longitude</th>\n",
       "      <th>Mapped Location</th>\n",
       "    </tr>\n",
       "  </thead>\n",
       "  <tbody>\n",
       "    <tr>\n",
       "      <th>0</th>\n",
       "      <td>Trash, Recycling &amp; Litter</td>\n",
       "      <td>Cart Service</td>\n",
       "      <td>Trash - Request an Additional Cart</td>\n",
       "      <td>10/30/2018 01:47:00 PM</td>\n",
       "      <td>2009 Upland Dr</td>\n",
       "      <td>NASHVILLE</td>\n",
       "      <td>37216</td>\n",
       "      <td>36.198638</td>\n",
       "      <td>-86.706659</td>\n",
       "      <td>(36.1986378, -86.7066586)</td>\n",
       "    </tr>\n",
       "    <tr>\n",
       "      <th>1</th>\n",
       "      <td>Property Violations</td>\n",
       "      <td>Residential Complaint</td>\n",
       "      <td>Residential Complaint</td>\n",
       "      <td>03/13/2018 09:34:50 PM</td>\n",
       "      <td>631 Murfreesboro Pike</td>\n",
       "      <td>NASHVILLE</td>\n",
       "      <td>37210</td>\n",
       "      <td>36.140070</td>\n",
       "      <td>-86.738360</td>\n",
       "      <td>(36.14007, -86.73836)</td>\n",
       "    </tr>\n",
       "  </tbody>\n",
       "</table>\n",
       "</div>"
      ],
      "text/plain": [
       "                Request Type        Subrequest Type  \\\n",
       "0  Trash, Recycling & Litter           Cart Service   \n",
       "1        Property Violations  Residential Complaint   \n",
       "\n",
       "           Additional Subrequest Type      Date / Time Opened  \\\n",
       "0  Trash - Request an Additional Cart  10/30/2018 01:47:00 PM   \n",
       "1               Residential Complaint  03/13/2018 09:34:50 PM   \n",
       "\n",
       "                 Address       City    ZIP   Latitude  Longitude  \\\n",
       "0         2009 Upland Dr  NASHVILLE  37216  36.198638 -86.706659   \n",
       "1  631 Murfreesboro Pike  NASHVILLE  37210  36.140070 -86.738360   \n",
       "\n",
       "             Mapped Location  \n",
       "0  (36.1986378, -86.7066586)  \n",
       "1      (36.14007, -86.73836)  "
      ]
     },
     "execution_count": 8,
     "metadata": {},
     "output_type": "execute_result"
    }
   ],
   "source": [
    "service_requests_dropped_nan = service_requests_filtered.dropna()\n",
    "service_requests_dropped_nan.head(2)"
   ]
  },
  {
   "cell_type": "code",
   "execution_count": 9,
   "metadata": {},
   "outputs": [
    {
     "data": {
      "text/html": [
       "<div>\n",
       "<style scoped>\n",
       "    .dataframe tbody tr th:only-of-type {\n",
       "        vertical-align: middle;\n",
       "    }\n",
       "\n",
       "    .dataframe tbody tr th {\n",
       "        vertical-align: top;\n",
       "    }\n",
       "\n",
       "    .dataframe thead th {\n",
       "        text-align: right;\n",
       "    }\n",
       "</style>\n",
       "<table border=\"1\" class=\"dataframe\">\n",
       "  <thead>\n",
       "    <tr style=\"text-align: right;\">\n",
       "      <th></th>\n",
       "      <th>req_type</th>\n",
       "      <th>subreq_type</th>\n",
       "      <th>add_subreq_type</th>\n",
       "      <th>date_time</th>\n",
       "      <th>address</th>\n",
       "      <th>city</th>\n",
       "      <th>zip</th>\n",
       "      <th>lat</th>\n",
       "      <th>long</th>\n",
       "      <th>mapped_loc</th>\n",
       "    </tr>\n",
       "  </thead>\n",
       "  <tbody>\n",
       "    <tr>\n",
       "      <th>0</th>\n",
       "      <td>Trash, Recycling &amp; Litter</td>\n",
       "      <td>Cart Service</td>\n",
       "      <td>Trash - Request an Additional Cart</td>\n",
       "      <td>10/30/2018 01:47:00 PM</td>\n",
       "      <td>2009 Upland Dr</td>\n",
       "      <td>NASHVILLE</td>\n",
       "      <td>37216</td>\n",
       "      <td>36.198638</td>\n",
       "      <td>-86.706659</td>\n",
       "      <td>(36.1986378, -86.7066586)</td>\n",
       "    </tr>\n",
       "    <tr>\n",
       "      <th>1</th>\n",
       "      <td>Property Violations</td>\n",
       "      <td>Residential Complaint</td>\n",
       "      <td>Residential Complaint</td>\n",
       "      <td>03/13/2018 09:34:50 PM</td>\n",
       "      <td>631 Murfreesboro Pike</td>\n",
       "      <td>NASHVILLE</td>\n",
       "      <td>37210</td>\n",
       "      <td>36.140070</td>\n",
       "      <td>-86.738360</td>\n",
       "      <td>(36.14007, -86.73836)</td>\n",
       "    </tr>\n",
       "  </tbody>\n",
       "</table>\n",
       "</div>"
      ],
      "text/plain": [
       "                    req_type            subreq_type  \\\n",
       "0  Trash, Recycling & Litter           Cart Service   \n",
       "1        Property Violations  Residential Complaint   \n",
       "\n",
       "                      add_subreq_type               date_time  \\\n",
       "0  Trash - Request an Additional Cart  10/30/2018 01:47:00 PM   \n",
       "1               Residential Complaint  03/13/2018 09:34:50 PM   \n",
       "\n",
       "                 address       city    zip        lat       long  \\\n",
       "0         2009 Upland Dr  NASHVILLE  37216  36.198638 -86.706659   \n",
       "1  631 Murfreesboro Pike  NASHVILLE  37210  36.140070 -86.738360   \n",
       "\n",
       "                  mapped_loc  \n",
       "0  (36.1986378, -86.7066586)  \n",
       "1      (36.14007, -86.73836)  "
      ]
     },
     "execution_count": 9,
     "metadata": {},
     "output_type": "execute_result"
    }
   ],
   "source": [
    "service_requests_renamed = service_requests_dropped_nan.rename(columns={'Request Type':'req_type', 'Subrequest Type':'subreq_type','Additional Subrequest Type':'add_subreq_type','Date / Time Opened':'date_time','Address':'address','City':'city','ZIP':'zip','Latitude':'lat','Longitude':'long','Mapped Location':'mapped_loc'})\n",
    "service_requests_renamed.head(2)"
   ]
  },
  {
   "cell_type": "code",
   "execution_count": 10,
   "metadata": {},
   "outputs": [
    {
     "data": {
      "text/html": [
       "<div>\n",
       "<style scoped>\n",
       "    .dataframe tbody tr th:only-of-type {\n",
       "        vertical-align: middle;\n",
       "    }\n",
       "\n",
       "    .dataframe tbody tr th {\n",
       "        vertical-align: top;\n",
       "    }\n",
       "\n",
       "    .dataframe thead th {\n",
       "        text-align: right;\n",
       "    }\n",
       "</style>\n",
       "<table border=\"1\" class=\"dataframe\">\n",
       "  <thead>\n",
       "    <tr style=\"text-align: right;\">\n",
       "      <th></th>\n",
       "      <th>req_type</th>\n",
       "      <th>subreq_type</th>\n",
       "      <th>add_subreq_type</th>\n",
       "      <th>date_time</th>\n",
       "      <th>address</th>\n",
       "      <th>city</th>\n",
       "      <th>zip</th>\n",
       "      <th>lat</th>\n",
       "      <th>long</th>\n",
       "      <th>mapped_loc</th>\n",
       "      <th>date</th>\n",
       "      <th>time</th>\n",
       "      <th>AM/PM</th>\n",
       "    </tr>\n",
       "  </thead>\n",
       "  <tbody>\n",
       "    <tr>\n",
       "      <th>0</th>\n",
       "      <td>Trash, Recycling &amp; Litter</td>\n",
       "      <td>Cart Service</td>\n",
       "      <td>Trash - Request an Additional Cart</td>\n",
       "      <td>10/30/2018 01:47:00 PM</td>\n",
       "      <td>2009 Upland Dr</td>\n",
       "      <td>NASHVILLE</td>\n",
       "      <td>37216</td>\n",
       "      <td>36.198638</td>\n",
       "      <td>-86.706659</td>\n",
       "      <td>(36.1986378, -86.7066586)</td>\n",
       "      <td>10/30/2018</td>\n",
       "      <td>01:47:00</td>\n",
       "      <td>PM</td>\n",
       "    </tr>\n",
       "    <tr>\n",
       "      <th>1</th>\n",
       "      <td>Property Violations</td>\n",
       "      <td>Residential Complaint</td>\n",
       "      <td>Residential Complaint</td>\n",
       "      <td>03/13/2018 09:34:50 PM</td>\n",
       "      <td>631 Murfreesboro Pike</td>\n",
       "      <td>NASHVILLE</td>\n",
       "      <td>37210</td>\n",
       "      <td>36.140070</td>\n",
       "      <td>-86.738360</td>\n",
       "      <td>(36.14007, -86.73836)</td>\n",
       "      <td>03/13/2018</td>\n",
       "      <td>09:34:50</td>\n",
       "      <td>PM</td>\n",
       "    </tr>\n",
       "  </tbody>\n",
       "</table>\n",
       "</div>"
      ],
      "text/plain": [
       "                    req_type            subreq_type  \\\n",
       "0  Trash, Recycling & Litter           Cart Service   \n",
       "1        Property Violations  Residential Complaint   \n",
       "\n",
       "                      add_subreq_type               date_time  \\\n",
       "0  Trash - Request an Additional Cart  10/30/2018 01:47:00 PM   \n",
       "1               Residential Complaint  03/13/2018 09:34:50 PM   \n",
       "\n",
       "                 address       city    zip        lat       long  \\\n",
       "0         2009 Upland Dr  NASHVILLE  37216  36.198638 -86.706659   \n",
       "1  631 Murfreesboro Pike  NASHVILLE  37210  36.140070 -86.738360   \n",
       "\n",
       "                  mapped_loc        date      time AM/PM  \n",
       "0  (36.1986378, -86.7066586)  10/30/2018  01:47:00    PM  \n",
       "1      (36.14007, -86.73836)  03/13/2018  09:34:50    PM  "
      ]
     },
     "execution_count": 10,
     "metadata": {},
     "output_type": "execute_result"
    }
   ],
   "source": [
    "#covid_violations_renamed[['date','time']] = covid_violations_renamed.date_time.str.split(' ',expand=True)\n",
    "service_requests_renamed['date'] = service_requests_renamed.date_time.str.split(' ', expand = True)[0]\n",
    "service_requests_renamed['time'] = service_requests_renamed.date_time.str.split(' ', expand = True)[1]\n",
    "service_requests_renamed ['AM/PM'] = service_requests_renamed.date_time.str.split(' ', expand = True)[2]\n",
    "service_requests_renamed.head(2)"
   ]
  },
  {
   "cell_type": "code",
   "execution_count": 11,
   "metadata": {},
   "outputs": [],
   "source": [
    "##covid_violations_renamed['date'] = covid_violations_renamed.date_time.str.split().str[0]\n",
    "##covid_violations_renamed.head(2)"
   ]
  },
  {
   "cell_type": "code",
   "execution_count": 12,
   "metadata": {},
   "outputs": [
    {
     "data": {
      "text/html": [
       "<div>\n",
       "<style scoped>\n",
       "    .dataframe tbody tr th:only-of-type {\n",
       "        vertical-align: middle;\n",
       "    }\n",
       "\n",
       "    .dataframe tbody tr th {\n",
       "        vertical-align: top;\n",
       "    }\n",
       "\n",
       "    .dataframe thead th {\n",
       "        text-align: right;\n",
       "    }\n",
       "</style>\n",
       "<table border=\"1\" class=\"dataframe\">\n",
       "  <thead>\n",
       "    <tr style=\"text-align: right;\">\n",
       "      <th></th>\n",
       "      <th>req_type</th>\n",
       "      <th>subreq_type</th>\n",
       "      <th>add_subreq_type</th>\n",
       "      <th>date_time</th>\n",
       "      <th>address</th>\n",
       "      <th>city</th>\n",
       "      <th>zip</th>\n",
       "      <th>lat</th>\n",
       "      <th>long</th>\n",
       "      <th>mapped_loc</th>\n",
       "      <th>date</th>\n",
       "      <th>time</th>\n",
       "      <th>AM/PM</th>\n",
       "    </tr>\n",
       "  </thead>\n",
       "  <tbody>\n",
       "    <tr>\n",
       "      <th>0</th>\n",
       "      <td>COVID-19</td>\n",
       "      <td>COVID-19 Violations</td>\n",
       "      <td>COVID-19 Violations</td>\n",
       "      <td>08/14/2020 02:38:00 AM</td>\n",
       "      <td>2045 Antioch Pike</td>\n",
       "      <td>ANTIOCH</td>\n",
       "      <td>37013</td>\n",
       "      <td>36.068546</td>\n",
       "      <td>-86.683898</td>\n",
       "      <td>(36.0685457, -86.6838975)</td>\n",
       "      <td>08/14/2020</td>\n",
       "      <td>02:38:00</td>\n",
       "      <td>AM</td>\n",
       "    </tr>\n",
       "    <tr>\n",
       "      <th>1</th>\n",
       "      <td>COVID-19</td>\n",
       "      <td>COVID-19 Questions</td>\n",
       "      <td>COVID-19 Questions</td>\n",
       "      <td>06/18/2020 08:59:50 PM</td>\n",
       "      <td>Charlotte Pike</td>\n",
       "      <td>NASHVILLE</td>\n",
       "      <td>37209</td>\n",
       "      <td>36.114870</td>\n",
       "      <td>-86.925890</td>\n",
       "      <td>(36.11487, -86.92589)</td>\n",
       "      <td>06/18/2020</td>\n",
       "      <td>08:59:50</td>\n",
       "      <td>PM</td>\n",
       "    </tr>\n",
       "  </tbody>\n",
       "</table>\n",
       "</div>"
      ],
      "text/plain": [
       "   req_type          subreq_type      add_subreq_type               date_time  \\\n",
       "0  COVID-19  COVID-19 Violations  COVID-19 Violations  08/14/2020 02:38:00 AM   \n",
       "1  COVID-19   COVID-19 Questions   COVID-19 Questions  06/18/2020 08:59:50 PM   \n",
       "\n",
       "             address       city    zip        lat       long  \\\n",
       "0  2045 Antioch Pike    ANTIOCH  37013  36.068546 -86.683898   \n",
       "1     Charlotte Pike  NASHVILLE  37209  36.114870 -86.925890   \n",
       "\n",
       "                  mapped_loc        date      time AM/PM  \n",
       "0  (36.0685457, -86.6838975)  08/14/2020  02:38:00    AM  \n",
       "1      (36.11487, -86.92589)  06/18/2020  08:59:50    PM  "
      ]
     },
     "execution_count": 12,
     "metadata": {},
     "output_type": "execute_result"
    }
   ],
   "source": [
    "covid_violations = service_requests_renamed[service_requests_renamed[\"req_type\"]== 'COVID-19']\n",
    "covid_violations = covid_violations.reset_index(drop=True)\n",
    "covid_violations.head(2)"
   ]
  },
  {
   "cell_type": "markdown",
   "metadata": {},
   "source": [
    "### Violations reported by subtype"
   ]
  },
  {
   "cell_type": "code",
   "execution_count": 13,
   "metadata": {},
   "outputs": [
    {
     "data": {
      "text/plain": [
       "COVID-19 Violations                                           10791\n",
       "COVID-19 Questions                                              366\n",
       "COVID-19 Guidance for Reopening Businesses                       25\n",
       "COVID-19 - Submit Input about The Plan to Reopen Nashville       16\n",
       "Name: subreq_type, dtype: int64"
      ]
     },
     "execution_count": 13,
     "metadata": {},
     "output_type": "execute_result"
    }
   ],
   "source": [
    "covid_violations_sorted = covid_violations[\"subreq_type\"].value_counts(sort=True)\n",
    "covid_violations_sorted "
   ]
  },
  {
   "cell_type": "markdown",
   "metadata": {},
   "source": [
    "### Violations reported by location"
   ]
  },
  {
   "cell_type": "code",
   "execution_count": 14,
   "metadata": {},
   "outputs": [
    {
     "data": {
      "text/plain": [
       "NASHVILLE         9077\n",
       "MADISON            612\n",
       "ANTIOCH            492\n",
       "HERMITAGE          444\n",
       "OLD HICKORY        217\n",
       "GOODLETTSVILLE     217\n",
       "BRENTWOOD           51\n",
       "JOELTON             45\n",
       "WHITES CREEK        28\n",
       "LAVERGNE             9\n",
       "NOLENSVILLE          5\n",
       "LA VERGNE            1\n",
       "Name: city, dtype: int64"
      ]
     },
     "execution_count": 14,
     "metadata": {},
     "output_type": "execute_result"
    }
   ],
   "source": [
    "covid_violations_sorted_loc = covid_violations[\"city\"].value_counts(sort=True)\n",
    "covid_violations_sorted_loc"
   ]
  },
  {
   "cell_type": "code",
   "execution_count": 15,
   "metadata": {},
   "outputs": [
    {
     "data": {
      "text/plain": [
       "COVID-19 Violations                                           10791\n",
       "COVID-19 Questions                                              366\n",
       "COVID-19 Guidance for Reopening Businesses                       25\n",
       "COVID-19 - Submit Input about The Plan to Reopen Nashville       16\n",
       "Name: add_subreq_type, dtype: int64"
      ]
     },
     "execution_count": 15,
     "metadata": {},
     "output_type": "execute_result"
    }
   ],
   "source": [
    "covid_violations_addl_sorted = covid_violations[\"add_subreq_type\"].value_counts(sort=True)\n",
    "covid_violations_addl_sorted "
   ]
  },
  {
   "cell_type": "code",
   "execution_count": 16,
   "metadata": {},
   "outputs": [
    {
     "name": "stdout",
     "output_type": "stream",
     "text": [
      "03/20/2020\n"
     ]
    }
   ],
   "source": [
    "print(covid_violations[\"date\"].min())"
   ]
  },
  {
   "cell_type": "code",
   "execution_count": 17,
   "metadata": {},
   "outputs": [
    {
     "name": "stdout",
     "output_type": "stream",
     "text": [
      "11/14/2020\n"
     ]
    }
   ],
   "source": [
    "print(covid_violations[\"date\"].max())"
   ]
  },
  {
   "cell_type": "code",
   "execution_count": 34,
   "metadata": {},
   "outputs": [
    {
     "data": {
      "text/plain": [
       "<matplotlib.axes._subplots.AxesSubplot at 0x2dcf83b3f48>"
      ]
     },
     "execution_count": 34,
     "metadata": {},
     "output_type": "execute_result"
    },
    {
     "data": {
      "image/png": "[encoded data removed]",
      "text/plain": [
       "<Figure size 864x576 with 1 Axes>"
      ]
     },
     "metadata": {
      "needs_background": "light"
     },
     "output_type": "display_data"
    }
   ],
   "source": [
    "timeline = pd.date_range(start='2020, March', freq='W', periods=40)\n",
    "covid_violations = pd.DataFrame({'date': timeline, 'value': np.random.randn(40)})\n",
    "covid_violations.set_index('date', inplace=True)\n",
    "covid_violations.plot(kind='bar', figsize=(12, 8), color='purple')\n"
   ]
  },
  {
   "cell_type": "code",
   "execution_count": null,
   "metadata": {},
   "outputs": [],
   "source": []
  }
 ],
 "metadata": {
  "kernelspec": {
   "display_name": "Python 3",
   "language": "python",
   "name": "python3"
  },
  "language_info": {
   "codemirror_mode": {
    "name": "ipython",
    "version": 3
   },
   "file_extension": ".py",
   "mimetype": "text/x-python",
   "name": "python",
   "nbconvert_exporter": "python",
   "pygments_lexer": "ipython3",
   "version": "3.7.6"
  }
 },
 "nbformat": 4,
 "nbformat_minor": 4
}
